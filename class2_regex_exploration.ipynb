{
  "nbformat": 4,
  "nbformat_minor": 0,
  "metadata": {
    "colab": {
      "provenance": [],
      "authorship_tag": "ABX9TyMRSkRzczZkB33F2LNl0DS7",
      "include_colab_link": true
    },
    "kernelspec": {
      "name": "python3",
      "display_name": "Python 3"
    },
    "language_info": {
      "name": "python"
    }
  },
  "cells": [
    {
      "cell_type": "markdown",
      "metadata": {
        "id": "view-in-github",
        "colab_type": "text"
      },
      "source": [
        "<a href=\"https://colab.research.google.com/github/Silfa2/nlpcc-ui-2025/blob/main/class2_regex_exploration.ipynb\" target=\"_parent\"><img src=\"https://colab.research.google.com/assets/colab-badge.svg\" alt=\"Open In Colab\"/></a>"
      ]
    },
    {
      "cell_type": "markdown",
      "source": [
        "# Class Assignment 2: Regex Explorations in Text Data - Silfa Wulandari - 2206090192\n",
        "\n",
        "**Dataset:** 'covid-sentiment.csv` (Tweet COVID-19 Indonesia Mei-Juli 2020)"
      ],
      "metadata": {
        "id": "aZSw0FFcvf7T"
      }
    },
    {
      "cell_type": "markdown",
      "source": [
        "Saya memilih dataset **COVID-19 Indonesian Tweets (May–July 2020)** karena merepresentasikan dinamika opini publik Indonesia pada masa krisis kesehatan, di mana sentimen, ketidakpercayaan, dan keresahan terhadap kebijakan pemerintah banyak diungkapkan melalui media sosial. Dataset ini kaya akan elemen linguistik khas seperti hashtag, mention, URL, serta tanda baca berlebih yang mencerminkan emosi, sarkasme, dan keluhan masyarakat. Kehadiran kata kunci seperti “vaksin,” “covid,” dan “lockdown” juga memperkuat relevansi tematik, menjadikannya sumber ideal untuk analisis sentimen, framing isu, dan studi perilaku digital masyarakat dalam konteks kebijakan publik dan pandemi."
      ],
      "metadata": {
        "id": "5KdQfJz561Ut"
      }
    },
    {
      "cell_type": "code",
      "execution_count": 3,
      "metadata": {
        "colab": {
          "base_uri": "https://localhost:8080/"
        },
        "id": "ZyH4MyNYvM6S",
        "outputId": "2c6f5b7d-368c-44b3-b419-273cd21b0649"
      },
      "outputs": [
        {
          "output_type": "stream",
          "name": "stdout",
          "text": [
            "Library siap.\n",
            "Drive already mounted at /content/drive; to attempt to forcibly remount, call drive.mount(\"/content/drive\", force_remount=True).\n",
            "\n",
            "Google Drive siap.\n",
            "Dataset berhasil dimuat dari: /content/drive/MyDrive/NLP-CC/covid-sentiment.csv\n",
            "Kolom teks 'tweet' siap digunakan.\n",
            "\n",
            "Contoh Data:\n",
            "                                               tweet\n",
            "0   https://bit.ly/2L6CcbB  | Seharusnya saat ini...\n",
            "1  Klo kata gw Pemerintah tuh lagi menerapkan Her...\n",
            "2  Saat ini yang bisa saya lakukan hanya menyiapk...\n",
            "3  Satu Warga Positif Corona, Bupati: Kondisi ini...\n",
            "4  emosi bgt, lg kondisi begini gue disuruh liput...\n"
          ]
        }
      ],
      "source": [
        "# Impor Library\n",
        "import pandas as pd\n",
        "import re\n",
        "import matplotlib.pyplot as plt\n",
        "from collections import Counter\n",
        "import numpy as np\n",
        "from urllib.parse import urlparse\n",
        "from google.colab import drive\n",
        "\n",
        "print(\"Library siap.\")\n",
        "# Hubungkan Google Drive\n",
        "drive.mount('/content/drive')\n",
        "print(\"\\nGoogle Drive siap.\")\n",
        "# --- GANTI PATH FILE & NAMA KOLOM JIKA PERLU ---\n",
        "file_path = '/content/drive/MyDrive/NLP-CC/covid-sentiment.csv' # <--- GANTI PATH INI!\n",
        "nama_kolom_teks = 'tweet' # <--- GANTI JIKA NAMA KOLOM TEKS BEDA!\n",
        "# --- (Akhir bagian ganti) ---\n",
        "\n",
        "try:\n",
        "    df = pd.read_csv(file_path)\n",
        "    print(f\"Dataset berhasil dimuat dari: {file_path}\")\n",
        "\n",
        "    # Pre-processing kolom teks\n",
        "    if nama_kolom_teks in df.columns:\n",
        "        df[nama_kolom_teks] = df[nama_kolom_teks].astype(str).fillna('')\n",
        "        print(f\"Kolom teks '{nama_kolom_teks}' siap digunakan.\")\n",
        "        print(\"\\nContoh Data:\")\n",
        "        print(df[[nama_kolom_teks]].head())\n",
        "    else:\n",
        "        print(f\"\\nERROR: Kolom '{nama_kolom_teks}' tidak ditemukan! Periksa nama kolom.\")\n",
        "        df = None\n",
        "\n",
        "except FileNotFoundError:\n",
        "    print(f\"\\nERROR: File tidak ditemukan di {file_path}. Periksa path!\")\n",
        "    df = None\n",
        "except Exception as e:\n",
        "    print(f\"\\nERROR saat membaca file: {e}\")\n",
        "    df = None\n",
        "\n",
        "if df is None:\n",
        "    print(\"\\n*** PROSES BERHENTI KARENA DATA GAGAL DIMUAT ***\")"
      ]
    },
    {
      "cell_type": "markdown",
      "source": [
        "## Tujuan 1: Menemukan Hashtags (#tag)\n",
        "\n",
        "**Alasan:** Mengidentifikasi topik atau kampanye utama terkait COVID-19."
      ],
      "metadata": {
        "id": "Rn7YA2BJxGmz"
      }
    },
    {
      "cell_type": "code",
      "source": [
        "# Pola 1: Dasar (# diikuti alphanumeric/underscore)\n",
        "pola_1_hashtag = r\"#\\w+\"\n",
        "hasil_pola_1_hashtag = []\n",
        "if df is not None:\n",
        "    for teks in df[nama_kolom_teks]:\n",
        "        cocok = re.findall(pola_1_hashtag, teks)\n",
        "        if cocok: hasil_pola_1_hashtag.extend(cocok)\n",
        "\n",
        "print(f\"--- Pola 1 ({pola_1_hashtag}) ---\")\n",
        "print(f\"Jumlah temuan: {len(hasil_pola_1_hashtag)}\")\n",
        "print(f\"Contoh: {hasil_pola_1_hashtag[:10]}\")"
      ],
      "metadata": {
        "colab": {
          "base_uri": "https://localhost:8080/"
        },
        "id": "Xfs68oMFxLOj",
        "outputId": "647f93e8-e648-4003-e3c0-0cd8f04f54f5"
      },
      "execution_count": 4,
      "outputs": [
        {
          "output_type": "stream",
          "name": "stdout",
          "text": [
            "--- Pola 1 (#\\w+) ---\n",
            "Jumlah temuan: 37519\n",
            "Contoh: ['#rakyatdotnews', '#referensiterkini', '#rakyatnews', '#dirumahaja', '#ProsesnewsID', '#PSBB', '#Gorontalo', '#KPULawanCovid19', '#SkandalAmiesPemprovDKI', '#SahurSegerr15']\n"
          ]
        }
      ]
    },
    {
      "cell_type": "markdown",
      "source": [
        "**Analisa Pola 1:**\n",
        "*   Mencari `#` diikuti `\\w+`.\n",
        "*   **Keterbatasan:** Bisa menangkap tag yang menempel pada kata lain."
      ],
      "metadata": {
        "id": "rwYMwJzmxWrC"
      }
    },
    {
      "cell_type": "code",
      "source": [
        "# Pola 2: Menambah word boundary (\\b) dan ekstrak isi tag\n",
        "pola_2_hashtag = r\"#(\\w+)\\b\"\n",
        "hasil_pola_2_hashtag = []\n",
        "if df is not None:\n",
        "    for teks in df[nama_kolom_teks]:\n",
        "        cocok = re.findall(pola_2_hashtag, teks)\n",
        "        if cocok: hasil_pola_2_hashtag.extend(cocok)\n",
        "\n",
        "print(f\"--- Pola 2 ({pola_2_hashtag}) ---\")\n",
        "print(f\"Jumlah temuan (isi tag): {len(hasil_pola_2_hashtag)}\")\n",
        "print(f\"Contoh: {hasil_pola_2_hashtag[:10]}\")"
      ],
      "metadata": {
        "colab": {
          "base_uri": "https://localhost:8080/"
        },
        "id": "PUIpBSRMxWRi",
        "outputId": "2c2aee5a-e5e6-4808-c23a-4cc372709516"
      },
      "execution_count": 5,
      "outputs": [
        {
          "output_type": "stream",
          "name": "stdout",
          "text": [
            "--- Pola 2 (#(\\w+)\\b) ---\n",
            "Jumlah temuan (isi tag): 37519\n",
            "Contoh: ['rakyatdotnews', 'referensiterkini', 'rakyatnews', 'dirumahaja', 'ProsesnewsID', 'PSBB', 'Gorontalo', 'KPULawanCovid19', 'SkandalAmiesPemprovDKI', 'SahurSegerr15']\n"
          ]
        }
      ]
    },
    {
      "cell_type": "markdown",
      "source": [
        "**Analisa Pola 2:**\n",
        "*   Menambah `\\b`; pakai grup `()` untuk ekstrak username.\n",
        "*   **Peningkatan:** Lebih akurat.\n",
        "*   **Keterbatasan:** Belum validasi panjang username."
      ],
      "metadata": {
        "id": "vIGDRqgux7l0"
      }
    },
    {
      "cell_type": "code",
      "source": [
        "# Pola 3: Format username Twitter (1-15 char, alphanumeric/underscore)\n",
        "pola_3_mention = r\"@([a-zA-Z0-9_]{1,15})\\b\"\n",
        "hasil_pola_3_mention = []\n",
        "if df is not None:\n",
        "    for teks in df[nama_kolom_teks]:\n",
        "        cocok = re.findall(pola_3_mention, teks)\n",
        "        if cocok: hasil_pola_3_mention.extend(cocok)\n",
        "\n",
        "mentions_ditemukan = [mention.lower() for mention in hasil_pola_3_mention]\n",
        "\n",
        "print(f\"--- Pola 3 ({pola_3_mention}) ---\")\n",
        "print(f\"Jumlah temuan (final): {len(mentions_ditemukan)}\")\n",
        "print(f\"Contoh: {mentions_ditemukan[:10]}\")"
      ],
      "metadata": {
        "colab": {
          "base_uri": "https://localhost:8080/"
        },
        "id": "5pIHYOcPx9PM",
        "outputId": "13b32f7b-7c17-4433-ccb7-635310a29645"
      },
      "execution_count": 6,
      "outputs": [
        {
          "output_type": "stream",
          "name": "stdout",
          "text": [
            "--- Pola 3 (@([a-zA-Z0-9_]{1,15})\\b) ---\n",
            "Jumlah temuan (final): 8075\n",
            "Contoh: ['gooddoctorid', 'nanangmas0384', 'null', 'null', 'sonorafm92', 'radioelshinta', 'pemkotbekasi', 'kominfobekasi', 'radiodakta', 'radarbekasi']\n"
          ]
        }
      ]
    },
    {
      "cell_type": "markdown",
      "source": [
        "**Analisa Pola 3:**\n",
        "*   Pakai `[a-zA-Z0-9_]` dan `{1,15}`.\n",
        "*   **Peningkatan:** Sangat akurat sesuai format Twitter.\n",
        "*   **Keterbatasan:** Tidak validasi eksistensi akun."
      ],
      "metadata": {
        "id": "ZdI_WdhvyF3v"
      }
    },
    {
      "cell_type": "markdown",
      "source": [
        "## Tujuan 3: Menemukan Ekspresi Emosi/Keluhan Kuat (Tanda Baca Berlebih)\n",
        "\n",
        "**Alasan:** Mendeteksi indikator sentimen kasar."
      ],
      "metadata": {
        "id": "uBsKHHL7yUBq"
      }
    },
    {
      "cell_type": "code",
      "source": [
        "# Pola 1: Tanda seru berlebih (minimal 2)\n",
        "pola_1_emosi = r\"!{2,}\"\n",
        "hasil_pola_1_emosi = []\n",
        "if df is not None:\n",
        "    for teks in df[nama_kolom_teks]:\n",
        "        cocok = re.findall(pola_1_emosi, teks)\n",
        "        if cocok: hasil_pola_1_emosi.extend(cocok)\n",
        "\n",
        "print(f\"--- Pola 1 ({pola_1_emosi}) ---\")\n",
        "print(f\"Jumlah temuan: {len(hasil_pola_1_emosi)}\")\n",
        "print(f\"Contoh: {hasil_pola_1_emosi[:10]}\")\n",
        "# Pola 2: Tanda tanya berlebih (minimal 2)\n",
        "pola_2_emosi = r\"\\?{2,}\" # Escape '?'\n",
        "hasil_pola_2_emosi = []\n",
        "if df is not None:\n",
        "    for teks in df[nama_kolom_teks]:\n",
        "        cocok = re.findall(pola_2_emosi, teks)\n",
        "        if cocok: hasil_pola_2_emosi.extend(cocok)\n",
        "\n",
        "print(f\"--- Pola 2 ({pola_2_emosi}) ---\")\n",
        "print(f\"Jumlah temuan: {len(hasil_pola_2_emosi)}\")\n",
        "print(f\"Contoh: {hasil_pola_2_emosi[:10]}\")"
      ],
      "metadata": {
        "colab": {
          "base_uri": "https://localhost:8080/"
        },
        "id": "UkHjbcwkyVh8",
        "outputId": "3f4dec70-c6f4-445d-e442-bc673daa9336"
      },
      "execution_count": 8,
      "outputs": [
        {
          "output_type": "stream",
          "name": "stdout",
          "text": [
            "--- Pola 1 (!{2,}) ---\n",
            "Jumlah temuan: 542\n",
            "Contoh: ['!!', '!!', '!!', '!!!', '!!', '!!', '!!', '!!', '!!!', '!!']\n",
            "--- Pola 2 (\\?{2,}) ---\n",
            "Jumlah temuan: 569\n",
            "Contoh: ['??', '???', '???', '??', '???', '??', '??', '??', '??', '??']\n"
          ]
        }
      ]
    },
    {
      "cell_type": "markdown",
      "source": [
        "**Analisa Pola 1:**\n",
        "*   Mencari `!` minimal 2 kali (`{2,}`).\n",
        "*   **Keterbatasan:** Hanya tanda seru.\n",
        "\n",
        "**Analisa Pola 2:**\n",
        "*   Mencari `?` minimal 2 kali (`\\?{2,}`).\n",
        "*   **Peningkatan:** Menangkap indikator pertanyaan kuat.\n",
        "*   **Keterbatasan:** Hanya tanda tanya."
      ],
      "metadata": {
        "id": "mMMm43Wxyi8k"
      }
    },
    {
      "cell_type": "code",
      "source": [
        "# Pola 3: Gabungan tanda seru ATAU tanya berlebih\n",
        "pola_3_emosi = r\"(!{2,}|\\?{2,})\"\n",
        "hasil_pola_3_emosi = []\n",
        "tweet_dengan_emosi = []\n",
        "if df is not None:\n",
        "    for teks in df[nama_kolom_teks]:\n",
        "        if re.search(pola_3_emosi, teks):\n",
        "            cocok = re.findall(pola_3_emosi, teks)\n",
        "            hasil_pola_3_emosi.extend(cocok)\n",
        "            tweet_dengan_emosi.append(teks)\n",
        "\n",
        "emotion_markers_ditemukan = hasil_pola_3_emosi\n",
        "\n",
        "print(f\"--- Pola 3 ({pola_3_emosi}) ---\")\n",
        "print(f\"Jumlah temuan marker: {len(emotion_markers_ditemukan)}\")\n",
        "print(f\"Contoh marker: {emotion_markers_ditemukan[:10]}\")\n",
        "print(f\"Jumlah tweet dengan marker: {len(tweet_dengan_emosi)}\")\n",
        "print(f\"Contoh tweet:\")\n",
        "for t in tweet_dengan_emosi[:3]: print(f\"- {t[:150]}...\")"
      ],
      "metadata": {
        "colab": {
          "base_uri": "https://localhost:8080/"
        },
        "id": "M8UoV-pMyEB9",
        "outputId": "e0afea38-8715-406f-8a62-92c68ea500d0"
      },
      "execution_count": 9,
      "outputs": [
        {
          "output_type": "stream",
          "name": "stdout",
          "text": [
            "--- Pola 3 ((!{2,}|\\?{2,})) ---\n",
            "Jumlah temuan marker: 1111\n",
            "Contoh marker: ['??', '!!', '???', '!!', '???', '!!', '!!!', '!!', '??', '!!']\n",
            "Jumlah tweet dengan marker: 955\n",
            "Contoh tweet:\n",
            "- Lah pie iki?? \n",
            "Menteri Keuangan Sri Mulyani mengatakan bahwa Pemprov DKI Jakarta meminta pemerintah pusat menanggung semua bansos untuk diberikan kepa...\n",
            "- Soalnya Rakyat kecil bukan TKA China yg selalu di bela pemerintah Pa..!!  \n",
            "\n",
            "Modus Baru Pemudik Nekat saat Pandemi Covid-19, Ngumpet dalam Truk Molen :...\n",
            "- Tarik ulur kebijakan moda transportasi, saya nilai seakan-akan pemerintah @BudiKaryaS  tidak serius atau tidak konsisten untuk menekan angka penyebara...\n"
          ]
        }
      ]
    },
    {
      "cell_type": "markdown",
      "source": [
        "**Analisa Pola 3:**\n",
        "*   Menggunakan `|` (ATAU) untuk `!{2,}` dan `\\?{2,}`.\n",
        "*   **Peningkatan:** Menangkap kedua jenis marker.\n",
        "*   **Keterbatasan:** Indikator kasar, perlu konteks."
      ],
      "metadata": {
        "id": "Ur0j4fe8y0Vz"
      }
    },
    {
      "cell_type": "markdown",
      "source": [
        "## Tujuan 4: Mengekstrak URL\n",
        "\n",
        "**Alasan:** Menganalisis sumber informasi yang dibagikan."
      ],
      "metadata": {
        "id": "D2q77X7H01zP"
      }
    },
    {
      "cell_type": "code",
      "source": [
        "# Pola 1: Dasar (http/https diikuti non-spasi)\n",
        "pola_1_url = r\"https?://\\S+\"\n",
        "hasil_pola_1_url = []\n",
        "if df is not None:\n",
        "    for teks in df[nama_kolom_teks]:\n",
        "        cocok = re.findall(pola_1_url, teks)\n",
        "        if cocok: hasil_pola_1_url.extend(cocok)\n",
        "\n",
        "print(f\"--- Pola 1 ({pola_1_url}) ---\")\n",
        "print(f\"Jumlah temuan: {len(hasil_pola_1_url)}\")\n",
        "print(f\"Contoh: {hasil_pola_1_url[:5]}\")"
      ],
      "metadata": {
        "colab": {
          "base_uri": "https://localhost:8080/"
        },
        "id": "_nOIGk6xyyJ-",
        "outputId": "2ecfddd2-2995-448e-d74f-199e5c73897a"
      },
      "execution_count": 10,
      "outputs": [
        {
          "output_type": "stream",
          "name": "stdout",
          "text": [
            "--- Pola 1 (https?://\\S+) ---\n",
            "Jumlah temuan: 21364\n",
            "Contoh: ['https://bit.ly/2L6CcbB', 'http://dlvr.it/RWBnbD', 'https://prosesnews.id/psbb-untuk-kita-semua/', 'https://m.cnnindonesia.com/nasional/20200507051113-20-500919/tiga-menteri-jokowi-soroti-kejanggalan-bansos-anies-di-dki', 'https://www.gelora.co/2020/05/jokowi-kita-beruntung-sejak-awal-pilih.html']\n"
          ]
        }
      ]
    },
    {
      "cell_type": "markdown",
      "source": [
        "**Analisa Pola 1:**\n",
        "*   Mencari `http`, `s?`, `://`, diikuti `\\S+`.\n",
        "*   **Keterbatasan:** Bisa menangkap tanda baca akhir."
      ],
      "metadata": {
        "id": "w8pWp11q1Bbh"
      }
    },
    {
      "cell_type": "code",
      "source": [
        "# Pola 2: Mencoba menghindari tanda baca akhir (heuristik)\n",
        "pola_2_url = r\"https?://[^\\s/$.?#].[^\\s]*[^\\s.,;:!?()]\"\n",
        "hasil_pola_2_url = []\n",
        "if df is not None:\n",
        "    for teks in df[nama_kolom_teks]:\n",
        "        cocok = re.findall(pola_2_url, teks)\n",
        "        if cocok: hasil_pola_2_url.extend(cocok)\n",
        "\n",
        "print(f\"--- Pola 2 ({pola_2_url}) ---\")\n",
        "print(f\"Jumlah temuan: {len(hasil_pola_2_url)}\")\n",
        "print(f\"Contoh: {hasil_pola_2_url[:5]}\")"
      ],
      "metadata": {
        "colab": {
          "base_uri": "https://localhost:8080/"
        },
        "id": "-kHEPTF-1Cgh",
        "outputId": "6d257163-d268-44e9-ee2b-0b574247021f"
      },
      "execution_count": 11,
      "outputs": [
        {
          "output_type": "stream",
          "name": "stdout",
          "text": [
            "--- Pola 2 (https?://[^\\s/$.?#].[^\\s]*[^\\s.,;:!?()]) ---\n",
            "Jumlah temuan: 21364\n",
            "Contoh: ['https://bit.ly/2L6CcbB', 'http://dlvr.it/RWBnbD', 'https://prosesnews.id/psbb-untuk-kita-semua/', 'https://m.cnnindonesia.com/nasional/20200507051113-20-500919/tiga-menteri-jokowi-soroti-kejanggalan-bansos-anies-di-dki', 'https://www.gelora.co/2020/05/jokowi-kita-beruntung-sejak-awal-pilih.html']\n"
          ]
        }
      ]
    },
    {
      "cell_type": "markdown",
      "source": [
        "**Analisa Pola 2:**\n",
        "*   Lebih kompleks, mencoba memastikan karakter terakhir bukan tanda baca umum.\n",
        "*   **Peningkatan:** Lebih mungkin menghasilkan URL bersih.\n",
        "*   **Keterbatasan:** Masih heuristik."
      ],
      "metadata": {
        "id": "skA7B6EW1GXr"
      }
    },
    {
      "cell_type": "code",
      "source": [
        "# Pola 3: Pola URL standar yang lebih robust\n",
        "pola_3_url = r'(https?://(?:www\\.)?[-a-zA-Z0-9@:%._\\+~#=]{1,256}\\.[a-zA-Z0-9()]{1,6}\\b(?:[-a-zA-Z0-9()@:%_\\+.~#?&//=]*))'\n",
        "hasil_pola_3_url = []\n",
        "if df is not None:\n",
        "    for teks in df[nama_kolom_teks]:\n",
        "        cocok = re.findall(pola_3_url, teks)\n",
        "        if cocok: hasil_pola_3_url.extend(cocok)\n",
        "\n",
        "urls_ditemukan = hasil_pola_3_url\n",
        "\n",
        "print(f\"--- Pola 3 ({pola_3_url}) ---\")\n",
        "print(f\"Jumlah temuan (final): {len(urls_ditemukan)}\")\n",
        "print(f\"Contoh: {urls_ditemukan[:5]}\")"
      ],
      "metadata": {
        "colab": {
          "base_uri": "https://localhost:8080/"
        },
        "id": "rxDXCjar1MuF",
        "outputId": "89012b7b-1938-43c4-a4f0-e65cb80d7f80"
      },
      "execution_count": 12,
      "outputs": [
        {
          "output_type": "stream",
          "name": "stdout",
          "text": [
            "--- Pola 3 ((https?://(?:www\\.)?[-a-zA-Z0-9@:%._\\+~#=]{1,256}\\.[a-zA-Z0-9()]{1,6}\\b(?:[-a-zA-Z0-9()@:%_\\+.~#?&//=]*))) ---\n",
            "Jumlah temuan (final): 21355\n",
            "Contoh: ['https://bit.ly/2L6CcbB', 'http://dlvr.it/RWBnbD', 'https://prosesnews.id/psbb-untuk-kita-semua/', 'https://m.cnnindonesia.com/nasional/20200507051113-20-500919/tiga-menteri-jokowi-soroti-kejanggalan-bansos-anies-di-dki', 'https://www.gelora.co/2020/05/jokowi-kita-beruntung-sejak-awal-pilih.html']\n"
          ]
        }
      ]
    },
    {
      "cell_type": "markdown",
      "source": [
        "**Analisa Pola 3:**\n",
        "*   Pola Regex kompleks standar untuk URL.\n",
        "*   **Peningkatan:** Jauh lebih akurat menangkap format URL umum.\n",
        "*   **Keterbatasan:** Mungkin tidak menangkap format URL non-standar."
      ],
      "metadata": {
        "id": "UKwT4O4q1y3Y"
      }
    },
    {
      "cell_type": "code",
      "source": [
        "# Visualisasi Frekuensi Kata Teratas\n",
        "# Pastikan variabel top_words_df sudah ada dan tidak kosong dari sel sebelumnya\n",
        "if 'top_words_df' in locals() and top_words_df is not None and not top_words_df.empty:\n",
        "    print(\"\\nMembuat plot frekuensi kata teratas...\")\n",
        "\n",
        "    # Atur ukuran plot\n",
        "    plt.figure(figsize=(12, 8))\n",
        "\n",
        "    # Buat bar chart horizontal (barh)\n",
        "    # Sumbu Y adalah Kata, Sumbu X adalah Frekuensi\n",
        "    plt.barh(top_words_df['Kata'], top_words_df['Frekuensi'], color='lightcoral')\n",
        "\n",
        "    # Balik urutan sumbu Y agar kata paling sering muncul ada di paling atas\n",
        "    plt.gca().invert_yaxis()\n",
        "\n",
        "    # Beri label pada sumbu\n",
        "    plt.xlabel('Frekuensi Kemunculan')\n",
        "    plt.ylabel('Kata')\n",
        "\n",
        "    # Beri judul plot\n",
        "    plt.title('Top 20 Kata yang Paling Sering Muncul (Setelah Cleaning & Stopword Removal)')\n",
        "\n",
        "    # Tambahkan teks nilai frekuensi di sebelah kanan setiap bar\n",
        "    for index, value in enumerate(top_words_df['Frekuensi']):\n",
        "        plt.text(value, index, f' {value}', va='center') # ' {value}' -> teksnya, value -> posisi x, index -> posisi y\n",
        "\n",
        "    # Rapikan layout agar label tidak terpotong\n",
        "    plt.tight_layout()\n",
        "\n",
        "    # Tampilkan plot\n",
        "    plt.show()\n",
        "else:\n",
        "    # Pesan jika tidak ada data untuk diplot\n",
        "    print(\"\\nTidak ada data kata teratas yang valid untuk dibuat plot.\")"
      ],
      "metadata": {
        "colab": {
          "base_uri": "https://localhost:8080/"
        },
        "id": "FKRSCD2w1W2K",
        "outputId": "f78b7d5f-7d6b-4669-ae31-170b934a4996"
      },
      "execution_count": 13,
      "outputs": [
        {
          "output_type": "stream",
          "name": "stdout",
          "text": [
            "\n",
            "Tidak ada data kata teratas yang valid untuk dibuat plot.\n"
          ]
        }
      ]
    },
    {
      "cell_type": "markdown",
      "source": [
        "## Tujuan 5: Menemukan Kata Kunci Kebijakan/Respons Pemerintah Terkait Pandemi\n",
        "\n",
        "**Mengapa ini menarik?** Selama pandemi (seperti pada dataset Tweet COVID), banyak kebijakan dan respons pemerintah yang didiskusikan publik. Mengidentifikasi kata kunci seperti PSBB, WFH, lockdown, atau bantuan sosial (bansos) dapat membantu memahami fokus pembicaraan masyarakat terkait tindakan pemerintah pada periode tersebut."
      ],
      "metadata": {
        "id": "g0scc0SX1PnR"
      }
    },
    {
      "cell_type": "code",
      "source": [
        "# Sel Kode 16: Regex Tujuan 5 - Pola 1 (Dasar)\n",
        "\n",
        "# Pola 1: Kata kunci dasar, case-insensitive\n",
        "pola_1_kebijakan = r\"psbb|lockdown|wfh\" # <--- CONTOH, SESUAIKAN DENGAN DATASETMU!\n",
        "\n",
        "hasil_pola_1_kebijakan = []\n",
        "# Pastikan df ada dan tidak kosong sebelum loop\n",
        "if 'df' in locals() and not df.empty and nama_kolom_teks in df.columns:\n",
        "    for teks in df[nama_kolom_teks]:\n",
        "        cocok = re.findall(pola_1_kebijakan, teks, re.IGNORECASE)\n",
        "        if cocok:\n",
        "            # Ambil semua kecocokan dalam satu tweet\n",
        "            hasil_pola_1_kebijakan.extend(cocok)\n",
        "else:\n",
        "    print(\"DataFrame 'df' tidak tersedia atau kolom teks tidak ditemukan.\")\n",
        "\n",
        "# Konversi ke huruf kecil untuk konsistensi\n",
        "hasil_pola_1_kebijakan_lower = [k.lower() for k in hasil_pola_1_kebijakan]\n",
        "\n",
        "# Tampilkan hasil\n",
        "print(f\"--- Hasil Pola 1 ({pola_1_kebijakan}) ---\")\n",
        "print(f\"Jumlah total temuan kata kunci: {len(hasil_pola_1_kebijakan_lower)}\")\n",
        "print(f\"Contoh 10 temuan pertama: {hasil_pola_1_kebijakan_lower[:10]}\")\n",
        "# Tampilkan kata kunci unik yang ditemukan\n",
        "if hasil_pola_1_kebijakan_lower:\n",
        "    print(f\"Kata kunci unik ditemukan: {sorted(list(set(hasil_pola_1_kebijakan_lower)))}\")\n",
        "else:\n",
        "    print(\"Tidak ada kata kunci yang ditemukan.\")"
      ],
      "metadata": {
        "colab": {
          "base_uri": "https://localhost:8080/"
        },
        "id": "nmEZrZpC12eM",
        "outputId": "2c1637fd-6da0-4aa7-ce84-88a3dd353918"
      },
      "execution_count": 14,
      "outputs": [
        {
          "output_type": "stream",
          "name": "stdout",
          "text": [
            "--- Hasil Pola 1 (psbb|lockdown|wfh) ---\n",
            "Jumlah total temuan kata kunci: 2830\n",
            "Contoh 10 temuan pertama: ['psbb', 'psbb', 'psbb', 'psbb', 'lockdown', 'psbb', 'psbb', 'lockdown', 'psbb', 'psbb']\n",
            "Kata kunci unik ditemukan: ['lockdown', 'psbb', 'wfh']\n"
          ]
        }
      ]
    },
    {
      "cell_type": "markdown",
      "source": [
        "**Analisa Pola 1:**\n",
        "*   Pola `r\"psbb|lockdown|wfh\"` menggunakan alternatif (`|`) untuk mencari salah satu dari kata kunci tersebut.\n",
        "*   `re.IGNORECASE` digunakan agar pencarian tidak membedakan huruf besar/kecil (misal: `PSBB`, `psbb`, `Psbb` semua cocok).\n",
        "*   Hasil dikonversi ke huruf kecil (`.lower()`) untuk memudahkan analisis frekuensi nanti.\n",
        "\n",
        "**Keterbatasan:**\n",
        "*   Daftar kata kunci sangat terbatas.\n",
        "*   Tidak menggunakan *word boundaries* (`\\b`), sehingga bisa salah cocok jika kata kunci muncul sebagai bagian dari kata lain (misal: `workflow` akan cocok dengan `wfh`)."
      ],
      "metadata": {
        "id": "aQguIx0P2-af"
      }
    },
    {
      "cell_type": "code",
      "source": [
        "# Sel Kode 17: Regex Tujuan 5 - Pola 2 (Word Boundaries & Variasi)\n",
        "\n",
        "# Pola 2: Tambah word boundaries (\\b) dan beberapa variasi/sinonim\n",
        "pola_2_kebijakan = r\"\\b(psbb|lockdown|wfh|restrictions|social distancing|work from home)\\b\" # <--- CONTOH, TAMBAHKAN VARIASI RELEVAN!\n",
        "\n",
        "hasil_pola_2_kebijakan = []\n",
        "if 'df' in locals() and not df.empty and nama_kolom_teks in df.columns:\n",
        "    for teks in df[nama_kolom_teks]:\n",
        "        cocok = re.findall(pola_2_kebijakan, teks, re.IGNORECASE)\n",
        "        if cocok:\n",
        "            hasil_pola_2_kebijakan.extend(cocok)\n",
        "else:\n",
        "    print(\"DataFrame 'df' tidak tersedia atau kolom teks tidak ditemukan.\")\n",
        "\n",
        "hasil_pola_2_kebijakan_lower = [k.lower() for k in hasil_pola_2_kebijakan]\n",
        "\n",
        "# Tampilkan hasil\n",
        "print(f\"--- Hasil Pola 2 ({pola_2_kebijakan}) ---\")\n",
        "print(f\"Jumlah total temuan kata kunci: {len(hasil_pola_2_kebijakan_lower)}\")\n",
        "print(f\"Contoh 10 temuan pertama: {hasil_pola_2_kebijakan_lower[:10]}\")\n",
        "if hasil_pola_2_kebijakan_lower:\n",
        "    print(f\"Kata kunci unik ditemukan: {sorted(list(set(hasil_pola_2_kebijakan_lower)))}\")\n",
        "else:\n",
        "    print(\"Tidak ada kata kunci yang ditemukan.\")"
      ],
      "metadata": {
        "colab": {
          "base_uri": "https://localhost:8080/"
        },
        "id": "6SZmTE722_dc",
        "outputId": "48025f11-2fd4-4d12-d24c-a9918c3e40e6"
      },
      "execution_count": 15,
      "outputs": [
        {
          "output_type": "stream",
          "name": "stdout",
          "text": [
            "--- Hasil Pola 2 (\\b(psbb|lockdown|wfh|restrictions|social distancing|work from home)\\b) ---\n",
            "Jumlah total temuan kata kunci: 2884\n",
            "Contoh 10 temuan pertama: ['psbb', 'psbb', 'psbb', 'psbb', 'lockdown', 'psbb', 'psbb', 'lockdown', 'psbb', 'psbb']\n",
            "Kata kunci unik ditemukan: ['lockdown', 'psbb', 'restrictions', 'social distancing', 'wfh', 'work from home']\n"
          ]
        }
      ]
    },
    {
      "cell_type": "markdown",
      "source": [
        "**Analisa Pola 2:**\n",
        "*   `\\b`: Ditambahkan di awal dan akhir grup `(...)` untuk memastikan kecocokan hanya pada kata utuh, bukan bagian dari kata lain.\n",
        "*   Alternatif diperluas: Menambahkan `restrictions`, `social distancing`, dan `work from home` sebagai variasi atau istilah terkait.\n",
        "\n",
        "**Peningkatan:**\n",
        "*   Lebih akurat karena menggunakan `\\b`.\n",
        "*   Cakupan istilah kebijakan sedikit lebih luas.\n",
        "\n",
        "**Keterbatasan:**\n",
        "*   Masih banyak istilah kebijakan atau bantuan lain yang mungkin terlewat (misal: terkait vaksinasi, bantuan sosial spesifik)."
      ],
      "metadata": {
        "id": "xcvUSDyA3DUk"
      }
    },
    {
      "cell_type": "code",
      "source": [
        "# Sel Kode 18: Regex Tujuan 5 - Pola 3 (Menambah Konteks Bantuan & Visualisasi)\n",
        "\n",
        "# Pola 3: Menambah kata kunci terkait bantuan sosial\n",
        "pola_3_kebijakan = r\"\\b(psbb|lockdown|wfh|restrictions|social distancing|work from home|social aid|assistance|bantuan|bansos|vaksin|vaccine)\\b\" # <--- CONTOH, LENGKAPI DAFTAR KATA KUNCI!\n",
        "\n",
        "hasil_pola_3_kebijakan = []\n",
        "# Simpan juga teks asli yang mengandung kata kunci (jika perlu analisis konteks nanti)\n",
        "teks_dengan_kebijakan = []\n",
        "\n",
        "if 'df' in locals() and not df.empty and nama_kolom_teks in df.columns:\n",
        "    for teks in df[nama_kolom_teks]:\n",
        "        # Gunakan re.finditer untuk mendapatkan objek match (lebih fleksibel jika perlu info posisi)\n",
        "        # Tapi untuk sekadar list kata, re.findall sudah cukup\n",
        "        cocok = re.findall(pola_3_kebijakan, teks, re.IGNORECASE)\n",
        "        if cocok:\n",
        "            # Tambahkan semua kata kunci yang cocok dari teks ini\n",
        "            hasil_pola_3_kebijakan.extend(cocok)\n",
        "            # Tandai bahwa teks ini mengandung kata kunci\n",
        "            teks_dengan_kebijakan.append(teks) # Bisa diganti df index jika perlu\n",
        "else:\n",
        "    print(\"DataFrame 'df' tidak tersedia atau kolom teks tidak ditemukan.\")\n",
        "\n",
        "# Konversi ke huruf kecil\n",
        "kebijakan_ditemukan = [k.lower() for k in hasil_pola_3_kebijakan]\n",
        "\n",
        "# Tampilkan ringkasan hasil Regex\n",
        "print(f\"--- Hasil Pola 3 ({pola_3_kebijakan}) ---\")\n",
        "print(f\"Jumlah total temuan kata kunci: {len(kebijakan_ditemukan)}\")\n",
        "print(f\"Contoh 10 temuan pertama: {kebijakan_ditemukan[:10]}\")\n",
        "if kebijakan_ditemukan:\n",
        "    print(f\"Kata kunci unik ditemukan: {sorted(list(set(kebijakan_ditemukan)))}\")\n",
        "    print(f\"Jumlah teks/berita yang mengandung kata kunci: {len(teks_dengan_kebijakan)}\") # Jumlah dokumen yang relevan\n",
        "else:\n",
        "    print(\"Tidak ada kata kunci yang ditemukan.\")\n",
        "\n",
        "\n",
        "# --- TAMBAHAN: Analisis Frekuensi & Visualisasi Kata Kunci Kebijakan ---\n",
        "if kebijakan_ditemukan:\n",
        "    print(\"\\n--- Analisis Frekuensi Kata Kunci Kebijakan/Bantuan (dari Pola 3) ---\")\n",
        "\n",
        "    # 1. Hitung Frekuensi menggunakan Counter\n",
        "    keyword_counts = Counter(kebijakan_ditemukan)\n",
        "    # Urutkan berdasarkan frekuensi (paling banyak dulu)\n",
        "    # .most_common() mengembalikan list of tuples [('kata', jumlah), ...]\n",
        "    sorted_keywords = keyword_counts.most_common()\n",
        "\n",
        "    # 2. Buat Tabel Frekuensi (Pandas DataFrame) agar rapi\n",
        "    # Cek apakah Pandas sudah diimpor sebagai pd\n",
        "    if 'pd' in globals():\n",
        "        df_keywords = pd.DataFrame(sorted_keywords, columns=['Kata Kunci', 'Frekuensi'])\n",
        "        print(\"\\nTabel Frekuensi Kata Kunci:\")\n",
        "        # .to_string() bagus untuk menampilkan semua baris di Colab\n",
        "        print(df_keywords.to_string(index=False))\n",
        "    else:\n",
        "        print(\"\\nPandas tidak diimpor sebagai 'pd', menampilkan list frekuensi:\")\n",
        "        print(sorted_keywords) # Tampilkan list tuple jika pandas tidak ada\n",
        "\n",
        "    # 3. Buat Visualisasi (Bar Chart Horizontal)\n",
        "    # Cek apakah matplotlib.pyplot sudah diimpor sebagai plt\n",
        "    if 'plt' in globals():\n",
        "        # Ambil data untuk plot dari sorted_keywords\n",
        "        labels = [item[0] for item in sorted_keywords]\n",
        "        values = [item[1] for item in sorted_keywords]\n",
        "\n",
        "        plt.figure(figsize=(10, max(6, len(labels) * 0.4))) # Ukuran dinamis berdasarkan jumlah label\n",
        "        bars = plt.barh(labels, values, color='lightcoral') # Horizontal bar chart\n",
        "        plt.xlabel('Jumlah Kemunculan')\n",
        "        plt.ylabel('Kata Kunci Kebijakan/Bantuan')\n",
        "        plt.title('Frekuensi Kata Kunci Kebijakan/Bantuan yang Ditemukan (Pola 3)')\n",
        "        plt.gca().invert_yaxis() # Tampilkan kata kunci teratas di paling atas\n",
        "\n",
        "        # Tambahkan label angka di ujung bar agar mudah dibaca\n",
        "        for bar in bars:\n",
        "            plt.text(bar.get_width() + 5, # Posisi x sedikit di kanan bar\n",
        "                     bar.get_y() + bar.get_height()/2, # Posisi y di tengah bar\n",
        "                     f'{bar.get_width()}', # Teks label (angka frekuensi)\n",
        "                     va='center', # Vertical alignment = center\n",
        "                     ha='left') # Horizontal alignment = left\n",
        "\n",
        "        plt.tight_layout() # Atur layout agar tidak terpotong\n",
        "        plt.show() # Tampilkan plot\n",
        "    else:\n",
        "        print(\"\\nMatplotlib.pyplot tidak diimpor sebagai 'plt', visualisasi dilewati.\")\n",
        "\n",
        "else:\n",
        "    print(\"\\nTidak ada kata kunci kebijakan yang ditemukan untuk dianalisis frekuensinya.\")\n",
        "\n",
        "# Simpan hasil akhir ini jika perlu untuk analisis hilir lain\n",
        "kebijakan_ditemukan_final = kebijakan_ditemukan\n",
        "# df_keywords_final = df_keywords # Jika menggunakan pandas"
      ],
      "metadata": {
        "colab": {
          "base_uri": "https://localhost:8080/",
          "height": 957
        },
        "id": "LaL0_Rc83HBS",
        "outputId": "2580b72a-caad-4cc6-f9f5-8d8a3d5e886b"
      },
      "execution_count": 16,
      "outputs": [
        {
          "output_type": "stream",
          "name": "stdout",
          "text": [
            "--- Hasil Pola 3 (\\b(psbb|lockdown|wfh|restrictions|social distancing|work from home|social aid|assistance|bantuan|bansos|vaksin|vaccine)\\b) ---\n",
            "Jumlah total temuan kata kunci: 8395\n",
            "Contoh 10 temuan pertama: ['bantuan', 'bantuan', 'psbb', 'psbb', 'bansos', 'bansos', 'bantuan', 'psbb', 'psbb', 'lockdown']\n",
            "Kata kunci unik ditemukan: ['bansos', 'bantuan', 'lockdown', 'psbb', 'restrictions', 'social distancing', 'vaksin', 'wfh', 'work from home']\n",
            "Jumlah teks/berita yang mengandung kata kunci: 5965\n",
            "\n",
            "--- Analisis Frekuensi Kata Kunci Kebijakan/Bantuan (dari Pola 3) ---\n",
            "\n",
            "Tabel Frekuensi Kata Kunci:\n",
            "       Kata Kunci  Frekuensi\n",
            "          bantuan       3615\n",
            "             psbb       2142\n",
            "           bansos       1147\n",
            "           vaksin        749\n",
            "         lockdown        462\n",
            "social distancing        148\n",
            "              wfh         90\n",
            "   work from home         41\n",
            "     restrictions          1\n"
          ]
        },
        {
          "output_type": "display_data",
          "data": {
            "text/plain": [
              "<Figure size 1000x600 with 1 Axes>"
            ],
            "image/png": "[encoded data removed]"
          },
          "metadata": {}
        }
      ]
    },
    {
      "cell_type": "code",
      "source": [
        "# Sel Kode 18: Regex Tujuan 5 - Pola 3 (Menambah Konteks Bantuan & Visualisasi)\n",
        "\n",
        "# Pola 3: Menambah kata kunci terkait bantuan sosial\n",
        "pola_3_kebijakan = r\"\\b(psbb|lockdown|wfh|restrictions|social distancing|work from home|social aid|assistance|bantuan|bansos|vaksin|vaccine)\\b\" # <--- CONTOH, LENGKAPI DAFTAR KATA KUNCI!\n",
        "\n",
        "hasil_pola_3_kebijakan = []\n",
        "teks_dengan_kebijakan = []\n",
        "\n",
        "if 'df' in locals() and not df.empty and nama_kolom_teks in df.columns:\n",
        "    for teks in df[nama_kolom_teks]:\n",
        "        cocok = re.findall(pola_3_kebijakan, teks, re.IGNORECASE)\n",
        "        if cocok:\n",
        "            hasil_pola_3_kebijakan.extend(cocok)\n",
        "            teks_dengan_kebijakan.append(teks)\n",
        "else:\n",
        "    print(\"DataFrame 'df' tidak tersedia atau kolom teks tidak ditemukan.\")\n",
        "\n",
        "kebijakan_ditemukan = [k.lower() for k in hasil_pola_3_kebijakan]\n",
        "\n",
        "print(f\"--- Hasil Pola 3 ({pola_3_kebijakan}) ---\")\n",
        "print(f\"Jumlah total temuan kata kunci: {len(kebijakan_ditemukan)}\")\n",
        "print(f\"Contoh 10 temuan pertama: {kebijakan_ditemukan[:10]}\")\n",
        "if kebijakan_ditemukan:\n",
        "    print(f\"Kata kunci unik ditemukan: {sorted(list(set(kebijakan_ditemukan)))}\")\n",
        "    print(f\"Jumlah teks/berita yang mengandung kata kunci: {len(teks_dengan_kebijakan)}\")\n",
        "else:\n",
        "    print(\"Tidak ada kata kunci yang ditemukan.\")\n",
        "\n",
        "\n",
        "# --- TAMBAHAN: Analisis Frekuensi & Visualisasi Kata Kunci Kebijakan ---\n",
        "if kebijakan_ditemukan:\n",
        "    print(\"\\n--- Analisis Frekuensi Kata Kunci Kebijakan/Bantuan (dari Pola 3) ---\")\n",
        "\n",
        "    # 1. Hitung Frekuensi menggunakan Counter\n",
        "    keyword_counts = Counter(kebijakan_ditemukan)\n",
        "    sorted_keywords = keyword_counts.most_common()\n",
        "\n",
        "    # 2. Buat Tabel Frekuensi (Pandas DataFrame) dengan Styling yang Lebih Baik\n",
        "    if 'pd' in globals():\n",
        "        df_keywords = pd.DataFrame(sorted_keywords, columns=['Kata Kunci', 'Frekuensi'])\n",
        "        print(\"\\nTabel Frekuensi Kata Kunci (dengan border):\")\n",
        "\n",
        "        # --- Styling untuk menambahkan border dan meningkatkan tampilan ---\n",
        "        styles = [\n",
        "            # Style untuk seluruh tabel: border luar dan collapse border\n",
        "            {'selector': 'table',\n",
        "             'props': [('border-collapse', 'collapse'), # Satukan border sel\n",
        "                       ('border', '2px solid black'),   # Border tebal di luar tabel\n",
        "                       ('width', 'auto')]},             # Lebar tabel otomatis\n",
        "            # Style untuk sel header (th) dan sel data (td): border dalam, padding\n",
        "            {'selector': 'th, td',\n",
        "             'props': [('border', '1px solid #cccccc'), # Border abu-abu tipis di dalam sel\n",
        "                       ('padding', '8px 12px'),      # Padding (atas/bawah, kiri/kanan)\n",
        "                       ('text-align', 'left')]},     # Teks rata kiri\n",
        "            # Style khusus untuk header (th): background, bold\n",
        "            {'selector': 'th',\n",
        "             'props': [('background-color', '#f2f2f2'), # Warna latar abu-abu muda\n",
        "                       ('font-weight', 'bold')]}\n",
        "        ]\n",
        "        # Terapkan style dan gunakan display() untuk merender HTML di Colab\n",
        "        # .hide(axis='index') menyembunyikan nomor index default Pandas (membutuhkan Pandas >= 1.4.0)\n",
        "        # Jika Pandas lebih lama, gunakan .hide_index()\n",
        "        display(df_keywords.style.set_table_styles(styles).hide(axis='index'))\n",
        "        # -----------------------------------------------------------------\n",
        "\n",
        "    else:\n",
        "        # Fallback jika pandas tidak ada\n",
        "        print(\"\\nPandas tidak diimpor sebagai 'pd', menampilkan list frekuensi:\")\n",
        "        print(sorted_keywords)\n",
        "\n",
        "    # 3. Buat Visualisasi (Bar Chart Horizontal) - Kode ini tetap sama\n",
        "    if 'plt' in globals():\n",
        "        labels = [item[0] for item in sorted_keywords]\n",
        "        values = [item[1] for item in sorted_keywords]\n",
        "\n",
        "        plt.figure(figsize=(10, max(6, len(labels) * 0.4)))\n",
        "        bars = plt.barh(labels, values, color='lightcoral')\n",
        "        plt.xlabel('Jumlah Kemunculan')\n",
        "        plt.ylabel('Kata Kunci Kebijakan/Bantuan')\n",
        "        plt.title('Frekuensi Kata Kunci Kebijakan/Bantuan yang Ditemukan (Pola 3)')\n",
        "        plt.gca().invert_yaxis()\n",
        "\n",
        "        for bar in bars:\n",
        "            plt.text(bar.get_width() + 5,\n",
        "                     bar.get_y() + bar.get_height()/2,\n",
        "                     f'{bar.get_width()}',\n",
        "                     va='center',\n",
        "                     ha='left')\n",
        "\n",
        "        plt.tight_layout()\n",
        "        plt.show()\n",
        "    else:\n",
        "        print(\"\\nMatplotlib.pyplot tidak diimpor sebagai 'plt', visualisasi dilewati.\")\n",
        "\n",
        "else:\n",
        "    print(\"\\nTidak ada kata kunci kebijakan yang ditemukan untuk dianalisis frekuensinya.\")\n",
        "\n",
        "# Simpan hasil akhir jika perlu\n",
        "kebijakan_ditemukan_final = kebijakan_ditemukan\n",
        "if 'df_keywords' in locals(): # Simpan jika df dibuat\n",
        "    df_keywords_final = df_keywords"
      ],
      "metadata": {
        "colab": {
          "base_uri": "https://localhost:8080/",
          "height": 1000
        },
        "id": "efeNc40d3ltl",
        "outputId": "a749ca42-f506-4d77-e3bc-5648507d2494"
      },
      "execution_count": 17,
      "outputs": [
        {
          "output_type": "stream",
          "name": "stdout",
          "text": [
            "--- Hasil Pola 3 (\\b(psbb|lockdown|wfh|restrictions|social distancing|work from home|social aid|assistance|bantuan|bansos|vaksin|vaccine)\\b) ---\n",
            "Jumlah total temuan kata kunci: 8395\n",
            "Contoh 10 temuan pertama: ['bantuan', 'bantuan', 'psbb', 'psbb', 'bansos', 'bansos', 'bantuan', 'psbb', 'psbb', 'lockdown']\n",
            "Kata kunci unik ditemukan: ['bansos', 'bantuan', 'lockdown', 'psbb', 'restrictions', 'social distancing', 'vaksin', 'wfh', 'work from home']\n",
            "Jumlah teks/berita yang mengandung kata kunci: 5965\n",
            "\n",
            "--- Analisis Frekuensi Kata Kunci Kebijakan/Bantuan (dari Pola 3) ---\n",
            "\n",
            "Tabel Frekuensi Kata Kunci (dengan border):\n"
          ]
        },
        {
          "output_type": "display_data",
          "data": {
            "text/plain": [
              "<pandas.io.formats.style.Styler at 0x7fc0232fa9d0>"
            ],
            "text/html": [
              "<style type=\"text/css\">\n",
              "#T_380b1 table {\n",
              "  border-collapse: collapse;\n",
              "  border: 2px solid black;\n",
              "  width: auto;\n",
              "}\n",
              "#T_380b1 th {\n",
              "  border: 1px solid #cccccc;\n",
              "  padding: 8px 12px;\n",
              "  text-align: left;\n",
              "}\n",
              "#T_380b1  td {\n",
              "  border: 1px solid #cccccc;\n",
              "  padding: 8px 12px;\n",
              "  text-align: left;\n",
              "}\n",
              "#T_380b1 th {\n",
              "  background-color: #f2f2f2;\n",
              "  font-weight: bold;\n",
              "}\n",
              "</style>\n",
              "<table id=\"T_380b1\" class=\"dataframe\">\n",
              "  <thead>\n",
              "    <tr>\n",
              "      <th id=\"T_380b1_level0_col0\" class=\"col_heading level0 col0\" >Kata Kunci</th>\n",
              "      <th id=\"T_380b1_level0_col1\" class=\"col_heading level0 col1\" >Frekuensi</th>\n",
              "    </tr>\n",
              "  </thead>\n",
              "  <tbody>\n",
              "    <tr>\n",
              "      <td id=\"T_380b1_row0_col0\" class=\"data row0 col0\" >bantuan</td>\n",
              "      <td id=\"T_380b1_row0_col1\" class=\"data row0 col1\" >3615</td>\n",
              "    </tr>\n",
              "    <tr>\n",
              "      <td id=\"T_380b1_row1_col0\" class=\"data row1 col0\" >psbb</td>\n",
              "      <td id=\"T_380b1_row1_col1\" class=\"data row1 col1\" >2142</td>\n",
              "    </tr>\n",
              "    <tr>\n",
              "      <td id=\"T_380b1_row2_col0\" class=\"data row2 col0\" >bansos</td>\n",
              "      <td id=\"T_380b1_row2_col1\" class=\"data row2 col1\" >1147</td>\n",
              "    </tr>\n",
              "    <tr>\n",
              "      <td id=\"T_380b1_row3_col0\" class=\"data row3 col0\" >vaksin</td>\n",
              "      <td id=\"T_380b1_row3_col1\" class=\"data row3 col1\" >749</td>\n",
              "    </tr>\n",
              "    <tr>\n",
              "      <td id=\"T_380b1_row4_col0\" class=\"data row4 col0\" >lockdown</td>\n",
              "      <td id=\"T_380b1_row4_col1\" class=\"data row4 col1\" >462</td>\n",
              "    </tr>\n",
              "    <tr>\n",
              "      <td id=\"T_380b1_row5_col0\" class=\"data row5 col0\" >social distancing</td>\n",
              "      <td id=\"T_380b1_row5_col1\" class=\"data row5 col1\" >148</td>\n",
              "    </tr>\n",
              "    <tr>\n",
              "      <td id=\"T_380b1_row6_col0\" class=\"data row6 col0\" >wfh</td>\n",
              "      <td id=\"T_380b1_row6_col1\" class=\"data row6 col1\" >90</td>\n",
              "    </tr>\n",
              "    <tr>\n",
              "      <td id=\"T_380b1_row7_col0\" class=\"data row7 col0\" >work from home</td>\n",
              "      <td id=\"T_380b1_row7_col1\" class=\"data row7 col1\" >41</td>\n",
              "    </tr>\n",
              "    <tr>\n",
              "      <td id=\"T_380b1_row8_col0\" class=\"data row8 col0\" >restrictions</td>\n",
              "      <td id=\"T_380b1_row8_col1\" class=\"data row8 col1\" >1</td>\n",
              "    </tr>\n",
              "  </tbody>\n",
              "</table>\n"
            ]
          },
          "metadata": {}
        },
        {
          "output_type": "display_data",
          "data": {
            "text/plain": [
              "<Figure size 1000x600 with 1 Axes>"
            ],
            "image/png": "[encoded data removed]"
          },
          "metadata": {}
        }
      ]
    },
    {
      "cell_type": "markdown",
      "source": [
        "**Analisa Pola 3:**\n",
        "\n",
        "Pola Regex `r\"\\b(psbb|...|bantuan|bansos|vaksin|vaccine)\\b\"` ini adalah versi **paling lengkap** untuk Tujuan 5.\n",
        "\n",
        "*   **Pengembangan:** Memperluas Pola 2 dengan menambahkan **kata kunci penting** terkait **bantuan sosial** (seperti `bantuan`, `bansos`) dan **vaksinasi** (`vaksin`, `vaccine`).\n",
        "*   **Fitur Utama:** Tetap menggunakan **word boundaries (`\\b`)** untuk mencocokkan kata utuh dan **alternatif (`|`)** serta **pencarian case-insensitive** untuk menangkap variasi.\n",
        "*   **Tujuan:** Menangkap **cakupan topik diskusi yang lebih luas** mengenai berbagai aspek respons pandemi (pembatasan, bantuan, vaksin) dalam teks.\n",
        "*   **Keterbatasan Utama:** Daftar kata kunci mungkin **belum mencakup semua istilah** relevan, dan Regex **tidak memahami konteks/sentimen** penggunaan kata tersebut."
      ],
      "metadata": {
        "id": "4gEmYBdi3lcb"
      }
    },
    {
      "cell_type": "markdown",
      "source": [
        "**RANGKUMAN**\n",
        "\n",
        "Analisis ini untuk memahami bagaimana kebijakan dan respons pemerintah dipengaruhi oleh berbagai faktor selama pandemi, termasuk langkah-langkah pembatasan, kebijakan WFH, bantuan sosial, serta upaya vaksinasi. Melalui pendekatan regex yang semakin luas dan spesifik, kita dapat memperoleh gambaran yang lebih lengkap mengenai topik yang paling sering dibahas dalam konteks kebijakan pemerintah selama pandemi.\n"
      ],
      "metadata": {
        "id": "9LGiru424lSf"
      }
    }
  ]
}