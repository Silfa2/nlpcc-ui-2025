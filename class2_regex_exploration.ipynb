{
  "nbformat": 4,
  "nbformat_minor": 0,
  "metadata": {
    "colab": {
      "provenance": [],
      "mount_file_id": "1p0YcUTADQtkAiRkqCPZKewp8rFaSu_hR",
      "authorship_tag": "ABX9TyOE+Pxb0ewgcGn9rXNhk0Q+",
      "include_colab_link": true
    },
    "kernelspec": {
      "name": "python3",
      "display_name": "Python 3"
    },
    "language_info": {
      "name": "python"
    }
  },
  "cells": [
    {
      "cell_type": "markdown",
      "metadata": {
        "id": "view-in-github",
        "colab_type": "text"
      },
      "source": [
        "<a href=\"https://colab.research.google.com/github/Silfa2/nlpcc-ui-2025/blob/main/class2_regex_exploration.ipynb\" target=\"_parent\"><img src=\"https://colab.research.google.com/assets/colab-badge.svg\" alt=\"Open In Colab\"/></a>"
      ]
    },
    {
      "cell_type": "markdown",
      "source": [
        "# Class Assignment 2: Regex Explorations in Text Data - Silfa Wulandari - 2206090192\n",
        "\n",
        "**Dataset:** 'covid-sentiment.csv` (Tweet COVID-19 Indonesia Mei-Juli 2020)"
      ],
      "metadata": {
        "id": "aZSw0FFcvf7T"
      }
    },
    {
      "cell_type": "markdown",
      "source": [
        "Saya memilih dataset **COVID-19 Indonesian Tweets (May–July 2020)** karena merepresentasikan dinamika opini publik Indonesia pada masa krisis kesehatan, di mana sentimen, ketidakpercayaan, dan keresahan terhadap kebijakan pemerintah banyak diungkapkan melalui media sosial. Dataset ini kaya akan elemen linguistik khas seperti hashtag, mention, URL, serta tanda baca berlebih yang mencerminkan emosi, sarkasme, dan keluhan masyarakat. Kehadiran kata kunci seperti “vaksin,” “covid,” dan “lockdown” juga memperkuat relevansi tematik, menjadikannya sumber ideal untuk analisis sentimen, framing isu, dan studi perilaku digital masyarakat dalam konteks kebijakan publik dan pandemi."
      ],
      "metadata": {
        "id": "5KdQfJz561Ut"
      }
    },
    {
      "cell_type": "code",
      "execution_count": null,
      "metadata": {
        "colab": {
          "base_uri": "https://localhost:8080/"
        },
        "id": "ZyH4MyNYvM6S",
        "outputId": "2c6f5b7d-368c-44b3-b419-273cd21b0649"
      },
      "outputs": [
        {
          "output_type": "stream",
          "name": "stdout",
          "text": [
            "Library siap.\n",
            "Drive already mounted at /content/drive; to attempt to forcibly remount, call drive.mount(\"/content/drive\", force_remount=True).\n",
            "\n",
            "Google Drive siap.\n",
            "Dataset berhasil dimuat dari: /content/drive/MyDrive/NLP-CC/covid-sentiment.csv\n",
            "Kolom teks 'tweet' siap digunakan.\n",
            "\n",
            "Contoh Data:\n",
            "                                               tweet\n",
            "0   https://bit.ly/2L6CcbB  | Seharusnya saat ini...\n",
            "1  Klo kata gw Pemerintah tuh lagi menerapkan Her...\n",
            "2  Saat ini yang bisa saya lakukan hanya menyiapk...\n",
            "3  Satu Warga Positif Corona, Bupati: Kondisi ini...\n",
            "4  emosi bgt, lg kondisi begini gue disuruh liput...\n"
          ]
        }
      ],
      "source": [
        "# Impor Library\n",
        "import pandas as pd\n",
        "import re\n",
        "import matplotlib.pyplot as plt\n",
        "from collections import Counter\n",
        "import numpy as np\n",
        "from urllib.parse import urlparse\n",
        "from google.colab import drive\n",
        "\n",
        "print(\"Library siap.\")\n",
        "# Hubungkan Google Drive\n",
        "drive.mount('/content/drive')\n",
        "print(\"\\nGoogle Drive siap.\")\n",
        "# --- GANTI PATH FILE & NAMA KOLOM JIKA PERLU ---\n",
        "file_path = '/content/drive/MyDrive/NLP-CC/covid-sentiment.csv' # <--- GANTI PATH INI!\n",
        "nama_kolom_teks = 'tweet' # <--- GANTI JIKA NAMA KOLOM TEKS BEDA!\n",
        "# --- (Akhir bagian ganti) ---\n",
        "\n",
        "try:\n",
        "    df = pd.read_csv(file_path)\n",
        "    print(f\"Dataset berhasil dimuat dari: {file_path}\")\n",
        "\n",
        "    # Pre-processing kolom teks\n",
        "    if nama_kolom_teks in df.columns:\n",
        "        df[nama_kolom_teks] = df[nama_kolom_teks].astype(str).fillna('')\n",
        "        print(f\"Kolom teks '{nama_kolom_teks}' siap digunakan.\")\n",
        "        print(\"\\nContoh Data:\")\n",
        "        print(df[[nama_kolom_teks]].head())\n",
        "    else:\n",
        "        print(f\"\\nERROR: Kolom '{nama_kolom_teks}' tidak ditemukan! Periksa nama kolom.\")\n",
        "        df = None\n",
        "\n",
        "except FileNotFoundError:\n",
        "    print(f\"\\nERROR: File tidak ditemukan di {file_path}. Periksa path!\")\n",
        "    df = None\n",
        "except Exception as e:\n",
        "    print(f\"\\nERROR saat membaca file: {e}\")\n",
        "    df = None\n",
        "\n",
        "if df is None:\n",
        "    print(\"\\n*** PROSES BERHENTI KARENA DATA GAGAL DIMUAT ***\")"
      ]
    },
    {
      "cell_type": "markdown",
      "source": [
        "## Tujuan 1: Menemukan Hashtags (#tag)\n",
        "\n",
        "**Alasan:** Mengidentifikasi topik atau kampanye utama terkait COVID-19."
      ],
      "metadata": {
        "id": "Rn7YA2BJxGmz"
      }
    },
    {
      "cell_type": "code",
      "source": [
        "# Pola 1: Dasar (# diikuti alphanumeric/underscore)\n",
        "pola_1_hashtag = r\"#\\w+\"\n",
        "hasil_pola_1_hashtag = []\n",
        "if df is not None:\n",
        "    for teks in df[nama_kolom_teks]:\n",
        "        cocok = re.findall(pola_1_hashtag, teks)\n",
        "        if cocok: hasil_pola_1_hashtag.extend(cocok)\n",
        "\n",
        "print(f\"--- Pola 1 ({pola_1_hashtag}) ---\")\n",
        "print(f\"Jumlah temuan: {len(hasil_pola_1_hashtag)}\")\n",
        "print(f\"Contoh: {hasil_pola_1_hashtag[:10]}\")"
      ],
      "metadata": {
        "colab": {
          "base_uri": "https://localhost:8080/"
        },
        "id": "Xfs68oMFxLOj",
        "outputId": "647f93e8-e648-4003-e3c0-0cd8f04f54f5"
      },
      "execution_count": null,
      "outputs": [
        {
          "output_type": "stream",
          "name": "stdout",
          "text": [
            "--- Pola 1 (#\\w+) ---\n",
            "Jumlah temuan: 37519\n",
            "Contoh: ['#rakyatdotnews', '#referensiterkini', '#rakyatnews', '#dirumahaja', '#ProsesnewsID', '#PSBB', '#Gorontalo', '#KPULawanCovid19', '#SkandalAmiesPemprovDKI', '#SahurSegerr15']\n"
          ]
        }
      ]
    },
    {
      "cell_type": "markdown",
      "source": [
        "**Analisa Pola 1:**\n",
        "*   Mencari `#` diikuti `\\w+`.\n",
        "*   **Keterbatasan:** Bisa menangkap tag yang menempel pada kata lain."
      ],
      "metadata": {
        "id": "rwYMwJzmxWrC"
      }
    },
    {
      "cell_type": "code",
      "source": [
        "# Pola 2: Menambah word boundary (\\b) dan ekstrak isi tag\n",
        "pola_2_hashtag = r\"#(\\w+)\\b\"\n",
        "hasil_pola_2_hashtag = []\n",
        "if df is not None:\n",
        "    for teks in df[nama_kolom_teks]:\n",
        "        cocok = re.findall(pola_2_hashtag, teks)\n",
        "        if cocok: hasil_pola_2_hashtag.extend(cocok)\n",
        "\n",
        "print(f\"--- Pola 2 ({pola_2_hashtag}) ---\")\n",
        "print(f\"Jumlah temuan (isi tag): {len(hasil_pola_2_hashtag)}\")\n",
        "print(f\"Contoh: {hasil_pola_2_hashtag[:10]}\")"
      ],
      "metadata": {
        "colab": {
          "base_uri": "https://localhost:8080/"
        },
        "id": "PUIpBSRMxWRi",
        "outputId": "2c2aee5a-e5e6-4808-c23a-4cc372709516"
      },
      "execution_count": null,
      "outputs": [
        {
          "output_type": "stream",
          "name": "stdout",
          "text": [
            "--- Pola 2 (#(\\w+)\\b) ---\n",
            "Jumlah temuan (isi tag): 37519\n",
            "Contoh: ['rakyatdotnews', 'referensiterkini', 'rakyatnews', 'dirumahaja', 'ProsesnewsID', 'PSBB', 'Gorontalo', 'KPULawanCovid19', 'SkandalAmiesPemprovDKI', 'SahurSegerr15']\n"
          ]
        }
      ]
    },
    {
      "cell_type": "markdown",
      "source": [
        "**Analisa Pola 2:**\n",
        "*   Menambah `\\b`; pakai grup `()` untuk ekstrak username.\n",
        "*   **Peningkatan:** Lebih akurat.\n",
        "*   **Keterbatasan:** Belum validasi panjang username."
      ],
      "metadata": {
        "id": "vIGDRqgux7l0"
      }
    },
    {
      "cell_type": "code",
      "source": [
        "# Pola 3: Format username Twitter (1-15 char, alphanumeric/underscore)\n",
        "pola_3_mention = r\"@([a-zA-Z0-9_]{1,15})\\b\"\n",
        "hasil_pola_3_mention = []\n",
        "if df is not None:\n",
        "    for teks in df[nama_kolom_teks]:\n",
        "        cocok = re.findall(pola_3_mention, teks)\n",
        "        if cocok: hasil_pola_3_mention.extend(cocok)\n",
        "\n",
        "mentions_ditemukan = [mention.lower() for mention in hasil_pola_3_mention]\n",
        "\n",
        "print(f\"--- Pola 3 ({pola_3_mention}) ---\")\n",
        "print(f\"Jumlah temuan (final): {len(mentions_ditemukan)}\")\n",
        "print(f\"Contoh: {mentions_ditemukan[:10]}\")"
      ],
      "metadata": {
        "colab": {
          "base_uri": "https://localhost:8080/"
        },
        "id": "5pIHYOcPx9PM",
        "outputId": "13b32f7b-7c17-4433-ccb7-635310a29645"
      },
      "execution_count": null,
      "outputs": [
        {
          "output_type": "stream",
          "name": "stdout",
          "text": [
            "--- Pola 3 (@([a-zA-Z0-9_]{1,15})\\b) ---\n",
            "Jumlah temuan (final): 8075\n",
            "Contoh: ['gooddoctorid', 'nanangmas0384', 'null', 'null', 'sonorafm92', 'radioelshinta', 'pemkotbekasi', 'kominfobekasi', 'radiodakta', 'radarbekasi']\n"
          ]
        }
      ]
    },
    {
      "cell_type": "markdown",
      "source": [
        "**Analisa Pola 3:**\n",
        "*   Pakai `[a-zA-Z0-9_]` dan `{1,15}`.\n",
        "*   **Peningkatan:** Sangat akurat sesuai format Twitter.\n",
        "*   **Keterbatasan:** Tidak validasi eksistensi akun."
      ],
      "metadata": {
        "id": "ZdI_WdhvyF3v"
      }
    },
    {
      "cell_type": "markdown",
      "source": [
        "## Tujuan 2: Menemukan Mention (@username)\n",
        "**Alasan:** Untuk mengetahui siapa saja yang sering disebut (influencer, media, atau institusi). Mention sering digunakan dalam diskusi publik untuk menarik perhatian atau menyebarkan informasi.\n",
        "\n",
        "\n",
        "\n"
      ],
      "metadata": {
        "id": "o8Oj8QLxQILX"
      }
    },
    {
      "cell_type": "code",
      "source": [
        "# Pola 1: Ambil semua mention @\n",
        "import pandas as pd\n",
        "from google.colab import drive\n",
        "\n",
        "drive.mount('/content/drive')\n",
        "file_path = '/content/drive/MyDrive/NLP-CC/covid-sentiment.csv'\n",
        "df = pd.read_csv(file_path)\n",
        "\n",
        "\n",
        "semua_mention = df['tweet'].apply(lambda x: re.findall(r'@[\\w_]+', x))\n",
        "daftar_mention = [mention.lower() for sublist in semua_mention for mention in sublist]\n",
        "\n",
        "top_mention = Counter(daftar_mention).most_common(10)\n",
        "\n",
        "# Visualisasi\n",
        "labels, values = zip(*top_mention)\n",
        "plt.figure(figsize=(10,5))\n",
        "plt.bar(labels, values, color='orange')\n",
        "plt.title(\"Top 10 Mention (@username)\")\n",
        "plt.xticks(rotation=45)\n",
        "plt.ylabel(\"Jumlah Kemunculan\")\n",
        "plt.grid(axis='y')\n",
        "plt.tight_layout()\n",
        "plt.show()\n"
      ],
      "metadata": {
        "colab": {
          "base_uri": "https://localhost:8080/",
          "height": 228
        },
        "id": "IKpTOAemQhBg",
        "outputId": "98cc8973-1c3e-4e67-df0a-e473a5b35247"
      },
      "execution_count": 5,
      "outputs": [
        {
          "output_type": "stream",
          "name": "stdout",
          "text": [
            "Drive already mounted at /content/drive; to attempt to forcibly remount, call drive.mount(\"/content/drive\", force_remount=True).\n"
          ]
        },
        {
          "output_type": "error",
          "ename": "NameError",
          "evalue": "name 'plt' is not defined",
          "traceback": [
            "\u001b[0;31m---------------------------------------------------------------------------\u001b[0m",
            "\u001b[0;31mNameError\u001b[0m                                 Traceback (most recent call last)",
            "\u001b[0;32m<ipython-input-5-f7b6f0a9d22c>\u001b[0m in \u001b[0;36m<cell line: 0>\u001b[0;34m()\u001b[0m\n\u001b[1;32m     15\u001b[0m \u001b[0;31m# Visualisasi\u001b[0m\u001b[0;34m\u001b[0m\u001b[0;34m\u001b[0m\u001b[0m\n\u001b[1;32m     16\u001b[0m \u001b[0mlabels\u001b[0m\u001b[0;34m,\u001b[0m \u001b[0mvalues\u001b[0m \u001b[0;34m=\u001b[0m \u001b[0mzip\u001b[0m\u001b[0;34m(\u001b[0m\u001b[0;34m*\u001b[0m\u001b[0mtop_mention\u001b[0m\u001b[0;34m)\u001b[0m\u001b[0;34m\u001b[0m\u001b[0;34m\u001b[0m\u001b[0m\n\u001b[0;32m---> 17\u001b[0;31m \u001b[0mplt\u001b[0m\u001b[0;34m.\u001b[0m\u001b[0mfigure\u001b[0m\u001b[0;34m(\u001b[0m\u001b[0mfigsize\u001b[0m\u001b[0;34m=\u001b[0m\u001b[0;34m(\u001b[0m\u001b[0;36m10\u001b[0m\u001b[0;34m,\u001b[0m\u001b[0;36m5\u001b[0m\u001b[0;34m)\u001b[0m\u001b[0;34m)\u001b[0m\u001b[0;34m\u001b[0m\u001b[0;34m\u001b[0m\u001b[0m\n\u001b[0m\u001b[1;32m     18\u001b[0m \u001b[0mplt\u001b[0m\u001b[0;34m.\u001b[0m\u001b[0mbar\u001b[0m\u001b[0;34m(\u001b[0m\u001b[0mlabels\u001b[0m\u001b[0;34m,\u001b[0m \u001b[0mvalues\u001b[0m\u001b[0;34m,\u001b[0m \u001b[0mcolor\u001b[0m\u001b[0;34m=\u001b[0m\u001b[0;34m'orange'\u001b[0m\u001b[0;34m)\u001b[0m\u001b[0;34m\u001b[0m\u001b[0;34m\u001b[0m\u001b[0m\n\u001b[1;32m     19\u001b[0m \u001b[0mplt\u001b[0m\u001b[0;34m.\u001b[0m\u001b[0mtitle\u001b[0m\u001b[0;34m(\u001b[0m\u001b[0;34m\"Top 10 Mention (@username)\"\u001b[0m\u001b[0;34m)\u001b[0m\u001b[0;34m\u001b[0m\u001b[0;34m\u001b[0m\u001b[0m\n",
            "\u001b[0;31mNameError\u001b[0m: name 'plt' is not defined"
          ]
        }
      ]
    },
    {
      "cell_type": "code",
      "source": [
        "# Import Library\n",
        "import pandas as pd\n",
        "import re\n",
        "from collections import Counter\n",
        "import matplotlib.pyplot as plt\n",
        "from google.colab import drive\n",
        "\n",
        "# Mount Google Drive\n",
        "drive.mount('/content/drive')\n",
        "\n",
        "# Baca dataset\n",
        "file_path = '/content/drive/MyDrive/NLP-CC/covid-sentiment.csv'\n",
        "df = pd.read_csv(file_path)\n",
        "\n",
        "# Pastikan kolom 'tweet' ada\n",
        "df['tweet'] = df['tweet'].astype(str)\n",
        "\n",
        "# POLA 1: Menemukan mention @username\n",
        "semua_mention = df['tweet'].apply(lambda x: re.findall(r'@[\\w_]+', x))\n",
        "daftar_mention = [mention.lower() for sublist in semua_mention for mention in sublist]\n",
        "counter_mention = Counter(daftar_mention)\n",
        "top_mention = counter_mention.most_common(10)\n",
        "\n",
        "# Visualisasi\n",
        "labels, values = zip(*top_mention)\n",
        "plt.figure(figsize=(10,5))\n",
        "plt.bar(labels, values, color='orange')\n",
        "plt.title(\"Top 10 Mention (@username)\")\n",
        "plt.xlabel(\"Mention\")\n",
        "plt.ylabel(\"Jumlah\")\n",
        "plt.xticks(rotation=45)\n",
        "plt.grid(axis='y')\n",
        "plt.show()\n"
      ],
      "metadata": {
        "colab": {
          "base_uri": "https://localhost:8080/",
          "height": 587
        },
        "id": "8Ef6JjjbRp7P",
        "outputId": "4ba18c5f-9ead-4c47-fd1b-5f42899855fc"
      },
      "execution_count": 6,
      "outputs": [
        {
          "output_type": "stream",
          "name": "stdout",
          "text": [
            "Drive already mounted at /content/drive; to attempt to forcibly remount, call drive.mount(\"/content/drive\", force_remount=True).\n"
          ]
        },
        {
          "output_type": "display_data",
          "data": {
            "text/plain": [
              "<Figure size 1000x500 with 1 Axes>"
            ],
            "image/png": "[encoded data removed]"
          },
          "metadata": {}
        }
      ]
    },
    {
      "cell_type": "markdown",
      "source": [
        "**Analisa Pola 1:**\n",
        "\n",
        "Kita melihat akun mana saja yang paling banyak disebut. Ini bisa menunjukkan aktor publik (seperti @KemenkesRI atau @jokowi) yang jadi pusat diskusi selama pandemi."
      ],
      "metadata": {
        "id": "XyNhqcnfRvGa"
      }
    },
    {
      "cell_type": "code",
      "source": [
        "# Pola 2 Menemukan Mention yang Menyebut Akun Pemerintah/Resmi\n",
        "pola_pemerintah = r'@[\\w_]*(kemenkes|jokowi|bnpb|kominfo)[\\w_]*'\n",
        "pemerintah_mentions = df['tweet'].apply(lambda x: re.findall(pola_pemerintah, x, re.IGNORECASE))\n",
        "daftar_pem_mention = [mention.lower() for sublist in pemerintah_mentions for mention in sublist]\n",
        "\n",
        "# Hitung\n",
        "counter_pem = Counter(daftar_pem_mention)\n",
        "top_pem = counter_pem.most_common(5)\n",
        "\n",
        "# Visualisasi\n",
        "labels, values = zip(*top_pem)\n",
        "plt.figure(figsize=(7,4))\n",
        "plt.bar(labels, values, color='green')\n",
        "plt.title(\"Top Mention yang Terkait Pemerintah\")\n",
        "plt.xlabel(\"Akun/Keyword\")\n",
        "plt.ylabel(\"Jumlah\")\n",
        "plt.grid(axis='y')\n",
        "plt.show()\n"
      ],
      "metadata": {
        "colab": {
          "base_uri": "https://localhost:8080/",
          "height": 410
        },
        "id": "7EYH0rmYSVju",
        "outputId": "63bfc9b0-2310-423e-a4b4-29526e60dcf8"
      },
      "execution_count": 7,
      "outputs": [
        {
          "output_type": "display_data",
          "data": {
            "text/plain": [
              "<Figure size 700x400 with 1 Axes>"
            ],
            "image/png": "[encoded data removed]"
          },
          "metadata": {}
        }
      ]
    },
    {
      "cell_type": "markdown",
      "source": [
        "**Analisa Pola 2:**\n",
        "Mention seperti @kemenkes dan @jokowi menunjukkan arah percakapan publik pada institusi yang dianggap bertanggung jawab selama krisis. Ini bisa mengindikasikan harapan, kritik, atau dukungan."
      ],
      "metadata": {
        "id": "t2Pn7z8GSi4n"
      }
    },
    {
      "cell_type": "code",
      "source": [
        "# Pola 3: Menemukan Mention yang Muncul di Awal Tweet\n",
        "pola_awal_mention = r'^@\\w+'\n",
        "mention_awal = df['tweet'].apply(lambda x: re.findall(pola_awal_mention, x, re.IGNORECASE))\n",
        "daftar_awal = [m.lower() for sublist in mention_awal for m in sublist]\n",
        "\n",
        "# Hitung frekuensi\n",
        "counter_awal = Counter(daftar_awal)\n",
        "top_awal = counter_awal.most_common(5)\n",
        "\n",
        "# Visualisasi\n",
        "if top_awal:\n",
        "    labels, values = zip(*top_awal)\n",
        "    plt.figure(figsize=(7,4))\n",
        "    plt.bar(labels, values, color='blue')\n",
        "    plt.title(\"Mention yang Muncul di Awal Tweet\")\n",
        "    plt.xlabel(\"Mention (@username)\")\n",
        "    plt.ylabel(\"Jumlah\")\n",
        "    plt.grid(axis='y')\n",
        "    plt.show()\n",
        "else:\n",
        "    print(\"Tidak ditemukan mention yang muncul di awal tweet.\")\n"
      ],
      "metadata": {
        "colab": {
          "base_uri": "https://localhost:8080/",
          "height": 410
        },
        "id": "ERQRCBOKSuVK",
        "outputId": "b0f1807c-145b-4baa-a556-4dbc870af066"
      },
      "execution_count": 8,
      "outputs": [
        {
          "output_type": "display_data",
          "data": {
            "text/plain": [
              "<Figure size 700x400 with 1 Axes>"
            ],
            "image/png": "[encoded data removed]"
          },
          "metadata": {}
        }
      ]
    },
    {
      "cell_type": "markdown",
      "source": [
        "**Analisa Pola 3:**\n",
        "\n",
        "Mention di awal tweet seperti @jokowi, @kemensosri, atau @kemendag dapat digunakan untuk menyampaikan pesan langsung, kritik terbuka, atau aduan publik. Ini membantu mengidentifikasi pihak yang menjadi sasaran langsung dalam diskusi."
      ],
      "metadata": {
        "id": "MrLYHiHbTK_U"
      }
    },
    {
      "cell_type": "markdown",
      "source": [
        "## Tujuan 3: Menemukan Ekspresi Emosi/Keluhan Kuat (Tanda Baca Berlebih)\n",
        "\n",
        "**Alasan**: Mendeteksi Indikator Sentimen Kasar.\n",
        "\n"
      ],
      "metadata": {
        "id": "uBsKHHL7yUBq"
      }
    },
    {
      "cell_type": "code",
      "source": [
        "# Pola 1: Tanda seru berlebih (minimal 2)\n",
        "pola_1_emosi = r\"!{2,}\"\n",
        "hasil_pola_1_emosi = []\n",
        "if df is not None:\n",
        "    for teks in df[nama_kolom_teks]:\n",
        "        cocok = re.findall(pola_1_emosi, teks)\n",
        "        if cocok: hasil_pola_1_emosi.extend(cocok)\n",
        "\n",
        "print(f\"--- Pola 1 ({pola_1_emosi}) ---\")\n",
        "print(f\"Jumlah temuan: {len(hasil_pola_1_emosi)}\")\n",
        "print(f\"Contoh: {hasil_pola_1_emosi[:10]}\")\n",
        "# Pola 2: Tanda tanya berlebih (minimal 2)\n",
        "pola_2_emosi = r\"\\?{2,}\" # Escape '?'\n",
        "hasil_pola_2_emosi = []\n",
        "if df is not None:\n",
        "    for teks in df[nama_kolom_teks]:\n",
        "        cocok = re.findall(pola_2_emosi, teks)\n",
        "        if cocok: hasil_pola_2_emosi.extend(cocok)\n",
        "\n",
        "print(f\"--- Pola 2 ({pola_2_emosi}) ---\")\n",
        "print(f\"Jumlah temuan: {len(hasil_pola_2_emosi)}\")\n",
        "print(f\"Contoh: {hasil_pola_2_emosi[:10]}\")"
      ],
      "metadata": {
        "colab": {
          "base_uri": "https://localhost:8080/"
        },
        "id": "UkHjbcwkyVh8",
        "outputId": "3f4dec70-c6f4-445d-e442-bc673daa9336"
      },
      "execution_count": null,
      "outputs": [
        {
          "output_type": "stream",
          "name": "stdout",
          "text": [
            "--- Pola 1 (!{2,}) ---\n",
            "Jumlah temuan: 542\n",
            "Contoh: ['!!', '!!', '!!', '!!!', '!!', '!!', '!!', '!!', '!!!', '!!']\n",
            "--- Pola 2 (\\?{2,}) ---\n",
            "Jumlah temuan: 569\n",
            "Contoh: ['??', '???', '???', '??', '???', '??', '??', '??', '??', '??']\n"
          ]
        }
      ]
    },
    {
      "cell_type": "markdown",
      "source": [
        "**Analisa Pola 1:**\n",
        "*   Mencari `!` minimal 2 kali (`{2,}`).\n",
        "*   **Keterbatasan:** Hanya tanda seru.\n",
        "\n",
        "**Analisa Pola 2:**\n",
        "*   Mencari `?` minimal 2 kali (`\\?{2,}`).\n",
        "*   **Peningkatan:** Menangkap indikator pertanyaan kuat.\n",
        "*   **Keterbatasan:** Hanya tanda tanya."
      ],
      "metadata": {
        "id": "mMMm43Wxyi8k"
      }
    },
    {
      "cell_type": "code",
      "source": [
        "# Pola 3: Gabungan tanda seru ATAU tanya berlebih\n",
        "pola_3_emosi = r\"(!{2,}|\\?{2,})\"\n",
        "hasil_pola_3_emosi = []\n",
        "tweet_dengan_emosi = []\n",
        "if df is not None:\n",
        "    for teks in df[nama_kolom_teks]:\n",
        "        if re.search(pola_3_emosi, teks):\n",
        "            cocok = re.findall(pola_3_emosi, teks)\n",
        "            hasil_pola_3_emosi.extend(cocok)\n",
        "            tweet_dengan_emosi.append(teks)\n",
        "\n",
        "emotion_markers_ditemukan = hasil_pola_3_emosi\n",
        "\n",
        "print(f\"--- Pola 3 ({pola_3_emosi}) ---\")\n",
        "print(f\"Jumlah temuan marker: {len(emotion_markers_ditemukan)}\")\n",
        "print(f\"Contoh marker: {emotion_markers_ditemukan[:10]}\")\n",
        "print(f\"Jumlah tweet dengan marker: {len(tweet_dengan_emosi)}\")\n",
        "print(f\"Contoh tweet:\")\n",
        "for t in tweet_dengan_emosi[:3]: print(f\"- {t[:150]}...\")"
      ],
      "metadata": {
        "colab": {
          "base_uri": "https://localhost:8080/"
        },
        "id": "M8UoV-pMyEB9",
        "outputId": "e0afea38-8715-406f-8a62-92c68ea500d0"
      },
      "execution_count": null,
      "outputs": [
        {
          "output_type": "stream",
          "name": "stdout",
          "text": [
            "--- Pola 3 ((!{2,}|\\?{2,})) ---\n",
            "Jumlah temuan marker: 1111\n",
            "Contoh marker: ['??', '!!', '???', '!!', '???', '!!', '!!!', '!!', '??', '!!']\n",
            "Jumlah tweet dengan marker: 955\n",
            "Contoh tweet:\n",
            "- Lah pie iki?? \n",
            "Menteri Keuangan Sri Mulyani mengatakan bahwa Pemprov DKI Jakarta meminta pemerintah pusat menanggung semua bansos untuk diberikan kepa...\n",
            "- Soalnya Rakyat kecil bukan TKA China yg selalu di bela pemerintah Pa..!!  \n",
            "\n",
            "Modus Baru Pemudik Nekat saat Pandemi Covid-19, Ngumpet dalam Truk Molen :...\n",
            "- Tarik ulur kebijakan moda transportasi, saya nilai seakan-akan pemerintah @BudiKaryaS  tidak serius atau tidak konsisten untuk menekan angka penyebara...\n"
          ]
        }
      ]
    },
    {
      "cell_type": "markdown",
      "source": [
        "**Analisa Pola 3:**\n",
        "*   Menggunakan `|` (ATAU) untuk `!{2,}` dan `\\?{2,}`.\n",
        "*   **Peningkatan:** Menangkap kedua jenis marker.\n",
        "*   **Keterbatasan:** Indikator kasar, perlu konteks."
      ],
      "metadata": {
        "id": "Ur0j4fe8y0Vz"
      }
    },
    {
      "cell_type": "markdown",
      "source": [
        "## Tujuan 4: Mengekstrak URL\n",
        "\n",
        "**Alasan:** Menganalisis sumber informasi yang dibagikan."
      ],
      "metadata": {
        "id": "D2q77X7H01zP"
      }
    },
    {
      "cell_type": "code",
      "source": [
        "# Pola 1: Dasar (http/https diikuti non-spasi)\n",
        "pola_1_url = r\"https?://\\S+\"\n",
        "hasil_pola_1_url = []\n",
        "if df is not None:\n",
        "    for teks in df[nama_kolom_teks]:\n",
        "        cocok = re.findall(pola_1_url, teks)\n",
        "        if cocok: hasil_pola_1_url.extend(cocok)\n",
        "\n",
        "print(f\"--- Pola 1 ({pola_1_url}) ---\")\n",
        "print(f\"Jumlah temuan: {len(hasil_pola_1_url)}\")\n",
        "print(f\"Contoh: {hasil_pola_1_url[:5]}\")"
      ],
      "metadata": {
        "colab": {
          "base_uri": "https://localhost:8080/"
        },
        "id": "_nOIGk6xyyJ-",
        "outputId": "2ecfddd2-2995-448e-d74f-199e5c73897a"
      },
      "execution_count": null,
      "outputs": [
        {
          "output_type": "stream",
          "name": "stdout",
          "text": [
            "--- Pola 1 (https?://\\S+) ---\n",
            "Jumlah temuan: 21364\n",
            "Contoh: ['https://bit.ly/2L6CcbB', 'http://dlvr.it/RWBnbD', 'https://prosesnews.id/psbb-untuk-kita-semua/', 'https://m.cnnindonesia.com/nasional/20200507051113-20-500919/tiga-menteri-jokowi-soroti-kejanggalan-bansos-anies-di-dki', 'https://www.gelora.co/2020/05/jokowi-kita-beruntung-sejak-awal-pilih.html']\n"
          ]
        }
      ]
    },
    {
      "cell_type": "markdown",
      "source": [
        "**Analisa Pola 1:**\n",
        "*   Mencari `http`, `s?`, `://`, diikuti `\\S+`.\n",
        "*   **Keterbatasan:** Bisa menangkap tanda baca akhir."
      ],
      "metadata": {
        "id": "w8pWp11q1Bbh"
      }
    },
    {
      "cell_type": "code",
      "source": [
        "# Pola 2: Mencoba menghindari tanda baca akhir (heuristik)\n",
        "pola_2_url = r\"https?://[^\\s/$.?#].[^\\s]*[^\\s.,;:!?()]\"\n",
        "hasil_pola_2_url = []\n",
        "if df is not None:\n",
        "    for teks in df[nama_kolom_teks]:\n",
        "        cocok = re.findall(pola_2_url, teks)\n",
        "        if cocok: hasil_pola_2_url.extend(cocok)\n",
        "\n",
        "print(f\"--- Pola 2 ({pola_2_url}) ---\")\n",
        "print(f\"Jumlah temuan: {len(hasil_pola_2_url)}\")\n",
        "print(f\"Contoh: {hasil_pola_2_url[:5]}\")"
      ],
      "metadata": {
        "colab": {
          "base_uri": "https://localhost:8080/"
        },
        "id": "-kHEPTF-1Cgh",
        "outputId": "6d257163-d268-44e9-ee2b-0b574247021f"
      },
      "execution_count": null,
      "outputs": [
        {
          "output_type": "stream",
          "name": "stdout",
          "text": [
            "--- Pola 2 (https?://[^\\s/$.?#].[^\\s]*[^\\s.,;:!?()]) ---\n",
            "Jumlah temuan: 21364\n",
            "Contoh: ['https://bit.ly/2L6CcbB', 'http://dlvr.it/RWBnbD', 'https://prosesnews.id/psbb-untuk-kita-semua/', 'https://m.cnnindonesia.com/nasional/20200507051113-20-500919/tiga-menteri-jokowi-soroti-kejanggalan-bansos-anies-di-dki', 'https://www.gelora.co/2020/05/jokowi-kita-beruntung-sejak-awal-pilih.html']\n"
          ]
        }
      ]
    },
    {
      "cell_type": "markdown",
      "source": [
        "**Analisa Pola 2:**\n",
        "*   Lebih kompleks, mencoba memastikan karakter terakhir bukan tanda baca umum.\n",
        "*   **Peningkatan:** Lebih mungkin menghasilkan URL bersih.\n",
        "*   **Keterbatasan:** Masih heuristik."
      ],
      "metadata": {
        "id": "skA7B6EW1GXr"
      }
    },
    {
      "cell_type": "code",
      "source": [
        "# Pola 3: Pola URL standar yang lebih robust\n",
        "pola_3_url = r'(https?://(?:www\\.)?[-a-zA-Z0-9@:%._\\+~#=]{1,256}\\.[a-zA-Z0-9()]{1,6}\\b(?:[-a-zA-Z0-9()@:%_\\+.~#?&//=]*))'\n",
        "hasil_pola_3_url = []\n",
        "if df is not None:\n",
        "    for teks in df[nama_kolom_teks]:\n",
        "        cocok = re.findall(pola_3_url, teks)\n",
        "        if cocok: hasil_pola_3_url.extend(cocok)\n",
        "\n",
        "urls_ditemukan = hasil_pola_3_url\n",
        "\n",
        "print(f\"--- Pola 3 ({pola_3_url}) ---\")\n",
        "print(f\"Jumlah temuan (final): {len(urls_ditemukan)}\")\n",
        "print(f\"Contoh: {urls_ditemukan[:5]}\")"
      ],
      "metadata": {
        "colab": {
          "base_uri": "https://localhost:8080/"
        },
        "id": "rxDXCjar1MuF",
        "outputId": "89012b7b-1938-43c4-a4f0-e65cb80d7f80"
      },
      "execution_count": null,
      "outputs": [
        {
          "output_type": "stream",
          "name": "stdout",
          "text": [
            "--- Pola 3 ((https?://(?:www\\.)?[-a-zA-Z0-9@:%._\\+~#=]{1,256}\\.[a-zA-Z0-9()]{1,6}\\b(?:[-a-zA-Z0-9()@:%_\\+.~#?&//=]*))) ---\n",
            "Jumlah temuan (final): 21355\n",
            "Contoh: ['https://bit.ly/2L6CcbB', 'http://dlvr.it/RWBnbD', 'https://prosesnews.id/psbb-untuk-kita-semua/', 'https://m.cnnindonesia.com/nasional/20200507051113-20-500919/tiga-menteri-jokowi-soroti-kejanggalan-bansos-anies-di-dki', 'https://www.gelora.co/2020/05/jokowi-kita-beruntung-sejak-awal-pilih.html']\n"
          ]
        }
      ]
    },
    {
      "cell_type": "markdown",
      "source": [
        "**Analisa Pola 3:**\n",
        "*   Pola Regex kompleks standar untuk URL.\n",
        "*   **Peningkatan:** Jauh lebih akurat menangkap format URL umum.\n",
        "*   **Keterbatasan:** Mungkin tidak menangkap format URL non-standar."
      ],
      "metadata": {
        "id": "UKwT4O4q1y3Y"
      }
    },
    {
      "cell_type": "code",
      "source": [
        "# Visualisasi Frekuensi Kata Teratas\n",
        "# Pastikan variabel top_words_df sudah ada dan tidak kosong dari sel sebelumnya\n",
        "if 'top_words_df' in locals() and top_words_df is not None and not top_words_df.empty:\n",
        "    print(\"\\nMembuat plot frekuensi kata teratas...\")\n",
        "\n",
        "    # Atur ukuran plot\n",
        "    plt.figure(figsize=(12, 8))\n",
        "\n",
        "    # Buat bar chart horizontal (barh)\n",
        "    # Sumbu Y adalah Kata, Sumbu X adalah Frekuensi\n",
        "    plt.barh(top_words_df['Kata'], top_words_df['Frekuensi'], color='lightcoral')\n",
        "\n",
        "    # Balik urutan sumbu Y agar kata paling sering muncul ada di paling atas\n",
        "    plt.gca().invert_yaxis()\n",
        "\n",
        "    # Beri label pada sumbu\n",
        "    plt.xlabel('Frekuensi Kemunculan')\n",
        "    plt.ylabel('Kata')\n",
        "\n",
        "    # Beri judul plot\n",
        "    plt.title('Top 20 Kata yang Paling Sering Muncul (Setelah Cleaning & Stopword Removal)')\n",
        "\n",
        "    # Tambahkan teks nilai frekuensi di sebelah kanan setiap bar\n",
        "    for index, value in enumerate(top_words_df['Frekuensi']):\n",
        "        plt.text(value, index, f' {value}', va='center') # ' {value}' -> teksnya, value -> posisi x, index -> posisi y\n",
        "\n",
        "    # Rapikan layout agar label tidak terpotong\n",
        "    plt.tight_layout()\n",
        "\n",
        "    # Tampilkan plot\n",
        "    plt.show()\n",
        "else:\n",
        "    # Pesan jika tidak ada data untuk diplot\n",
        "    print(\"\\nTidak ada data kata teratas yang valid untuk dibuat plot.\")"
      ],
      "metadata": {
        "colab": {
          "base_uri": "https://localhost:8080/"
        },
        "id": "FKRSCD2w1W2K",
        "outputId": "f78b7d5f-7d6b-4669-ae31-170b934a4996"
      },
      "execution_count": null,
      "outputs": [
        {
          "output_type": "stream",
          "name": "stdout",
          "text": [
            "\n",
            "Tidak ada data kata teratas yang valid untuk dibuat plot.\n"
          ]
        }
      ]
    },
    {
      "cell_type": "markdown",
      "source": [
        "## Tujuan 5: Menemukan Kata Kunci Kebijakan/Respons Pemerintah Terkait Pandemi\n",
        "\n",
        "**Mengapa ini menarik?** Selama pandemi (seperti pada dataset Tweet COVID), banyak kebijakan dan respons pemerintah yang didiskusikan publik. Mengidentifikasi kata kunci seperti PSBB, WFH, lockdown, atau bantuan sosial (bansos) dapat membantu memahami fokus pembicaraan masyarakat terkait tindakan pemerintah pada periode tersebut."
      ],
      "metadata": {
        "id": "g0scc0SX1PnR"
      }
    },
    {
      "cell_type": "code",
      "source": [
        "# Sel Kode 16: Regex Tujuan 5 - Pola 1 (Dasar)\n",
        "\n",
        "# Pola 1: Kata kunci dasar, case-insensitive\n",
        "pola_1_kebijakan = r\"psbb|lockdown|wfh\" # <--- CONTOH, SESUAIKAN DENGAN DATASETMU!\n",
        "\n",
        "hasil_pola_1_kebijakan = []\n",
        "# Pastikan df ada dan tidak kosong sebelum loop\n",
        "if 'df' in locals() and not df.empty and nama_kolom_teks in df.columns:\n",
        "    for teks in df[nama_kolom_teks]:\n",
        "        cocok = re.findall(pola_1_kebijakan, teks, re.IGNORECASE)\n",
        "        if cocok:\n",
        "            # Ambil semua kecocokan dalam satu tweet\n",
        "            hasil_pola_1_kebijakan.extend(cocok)\n",
        "else:\n",
        "    print(\"DataFrame 'df' tidak tersedia atau kolom teks tidak ditemukan.\")\n",
        "\n",
        "# Konversi ke huruf kecil untuk konsistensi\n",
        "hasil_pola_1_kebijakan_lower = [k.lower() for k in hasil_pola_1_kebijakan]\n",
        "\n",
        "# Tampilkan hasil\n",
        "print(f\"--- Hasil Pola 1 ({pola_1_kebijakan}) ---\")\n",
        "print(f\"Jumlah total temuan kata kunci: {len(hasil_pola_1_kebijakan_lower)}\")\n",
        "print(f\"Contoh 10 temuan pertama: {hasil_pola_1_kebijakan_lower[:10]}\")\n",
        "# Tampilkan kata kunci unik yang ditemukan\n",
        "if hasil_pola_1_kebijakan_lower:\n",
        "    print(f\"Kata kunci unik ditemukan: {sorted(list(set(hasil_pola_1_kebijakan_lower)))}\")\n",
        "else:\n",
        "    print(\"Tidak ada kata kunci yang ditemukan.\")"
      ],
      "metadata": {
        "colab": {
          "base_uri": "https://localhost:8080/"
        },
        "id": "nmEZrZpC12eM",
        "outputId": "2c1637fd-6da0-4aa7-ce84-88a3dd353918"
      },
      "execution_count": null,
      "outputs": [
        {
          "output_type": "stream",
          "name": "stdout",
          "text": [
            "--- Hasil Pola 1 (psbb|lockdown|wfh) ---\n",
            "Jumlah total temuan kata kunci: 2830\n",
            "Contoh 10 temuan pertama: ['psbb', 'psbb', 'psbb', 'psbb', 'lockdown', 'psbb', 'psbb', 'lockdown', 'psbb', 'psbb']\n",
            "Kata kunci unik ditemukan: ['lockdown', 'psbb', 'wfh']\n"
          ]
        }
      ]
    },
    {
      "cell_type": "markdown",
      "source": [
        "**Analisa Pola 1:**\n",
        "*   Pola `r\"psbb|lockdown|wfh\"` menggunakan alternatif (`|`) untuk mencari salah satu dari kata kunci tersebut.\n",
        "*   `re.IGNORECASE` digunakan agar pencarian tidak membedakan huruf besar/kecil (misal: `PSBB`, `psbb`, `Psbb` semua cocok).\n",
        "*   Hasil dikonversi ke huruf kecil (`.lower()`) untuk memudahkan analisis frekuensi nanti.\n",
        "\n",
        "**Keterbatasan:**\n",
        "*   Daftar kata kunci sangat terbatas.\n",
        "*   Tidak menggunakan *word boundaries* (`\\b`), sehingga bisa salah cocok jika kata kunci muncul sebagai bagian dari kata lain (misal: `workflow` akan cocok dengan `wfh`)."
      ],
      "metadata": {
        "id": "aQguIx0P2-af"
      }
    },
    {
      "cell_type": "code",
      "source": [
        "# Sel Kode 17: Regex Tujuan 5 - Pola 2 (Word Boundaries & Variasi)\n",
        "\n",
        "# Pola 2: Tambah word boundaries (\\b) dan beberapa variasi/sinonim\n",
        "pola_2_kebijakan = r\"\\b(psbb|lockdown|wfh|restrictions|social distancing|work from home)\\b\" # <--- CONTOH, TAMBAHKAN VARIASI RELEVAN!\n",
        "\n",
        "hasil_pola_2_kebijakan = []\n",
        "if 'df' in locals() and not df.empty and nama_kolom_teks in df.columns:\n",
        "    for teks in df[nama_kolom_teks]:\n",
        "        cocok = re.findall(pola_2_kebijakan, teks, re.IGNORECASE)\n",
        "        if cocok:\n",
        "            hasil_pola_2_kebijakan.extend(cocok)\n",
        "else:\n",
        "    print(\"DataFrame 'df' tidak tersedia atau kolom teks tidak ditemukan.\")\n",
        "\n",
        "hasil_pola_2_kebijakan_lower = [k.lower() for k in hasil_pola_2_kebijakan]\n",
        "\n",
        "# Tampilkan hasil\n",
        "print(f\"--- Hasil Pola 2 ({pola_2_kebijakan}) ---\")\n",
        "print(f\"Jumlah total temuan kata kunci: {len(hasil_pola_2_kebijakan_lower)}\")\n",
        "print(f\"Contoh 10 temuan pertama: {hasil_pola_2_kebijakan_lower[:10]}\")\n",
        "if hasil_pola_2_kebijakan_lower:\n",
        "    print(f\"Kata kunci unik ditemukan: {sorted(list(set(hasil_pola_2_kebijakan_lower)))}\")\n",
        "else:\n",
        "    print(\"Tidak ada kata kunci yang ditemukan.\")"
      ],
      "metadata": {
        "colab": {
          "base_uri": "https://localhost:8080/"
        },
        "id": "6SZmTE722_dc",
        "outputId": "48025f11-2fd4-4d12-d24c-a9918c3e40e6"
      },
      "execution_count": null,
      "outputs": [
        {
          "output_type": "stream",
          "name": "stdout",
          "text": [
            "--- Hasil Pola 2 (\\b(psbb|lockdown|wfh|restrictions|social distancing|work from home)\\b) ---\n",
            "Jumlah total temuan kata kunci: 2884\n",
            "Contoh 10 temuan pertama: ['psbb', 'psbb', 'psbb', 'psbb', 'lockdown', 'psbb', 'psbb', 'lockdown', 'psbb', 'psbb']\n",
            "Kata kunci unik ditemukan: ['lockdown', 'psbb', 'restrictions', 'social distancing', 'wfh', 'work from home']\n"
          ]
        }
      ]
    },
    {
      "cell_type": "markdown",
      "source": [
        "**Analisa Pola 2:**\n",
        "*   `\\b`: Ditambahkan di awal dan akhir grup `(...)` untuk memastikan kecocokan hanya pada kata utuh, bukan bagian dari kata lain.\n",
        "*   Alternatif diperluas: Menambahkan `restrictions`, `social distancing`, dan `work from home` sebagai variasi atau istilah terkait.\n",
        "\n",
        "**Peningkatan:**\n",
        "*   Lebih akurat karena menggunakan `\\b`.\n",
        "*   Cakupan istilah kebijakan sedikit lebih luas.\n",
        "\n",
        "**Keterbatasan:**\n",
        "*   Masih banyak istilah kebijakan atau bantuan lain yang mungkin terlewat (misal: terkait vaksinasi, bantuan sosial spesifik)."
      ],
      "metadata": {
        "id": "xcvUSDyA3DUk"
      }
    },
    {
      "cell_type": "code",
      "source": [
        "# Sel Kode 18: Regex Tujuan 5 - Pola 3 (Menambah Konteks Bantuan & Visualisasi)\n",
        "\n",
        "# Pola 3: Menambah kata kunci terkait bantuan sosial\n",
        "pola_3_kebijakan = r\"\\b(psbb|lockdown|wfh|restrictions|social distancing|work from home|social aid|assistance|bantuan|bansos|vaksin|vaccine)\\b\" # <--- CONTOH, LENGKAPI DAFTAR KATA KUNCI!\n",
        "\n",
        "hasil_pola_3_kebijakan = []\n",
        "# Simpan juga teks asli yang mengandung kata kunci (jika perlu analisis konteks nanti)\n",
        "teks_dengan_kebijakan = []\n",
        "\n",
        "if 'df' in locals() and not df.empty and nama_kolom_teks in df.columns:\n",
        "    for teks in df[nama_kolom_teks]:\n",
        "        # Gunakan re.finditer untuk mendapatkan objek match (lebih fleksibel jika perlu info posisi)\n",
        "        # Tapi untuk sekadar list kata, re.findall sudah cukup\n",
        "        cocok = re.findall(pola_3_kebijakan, teks, re.IGNORECASE)\n",
        "        if cocok:\n",
        "            # Tambahkan semua kata kunci yang cocok dari teks ini\n",
        "            hasil_pola_3_kebijakan.extend(cocok)\n",
        "            # Tandai bahwa teks ini mengandung kata kunci\n",
        "            teks_dengan_kebijakan.append(teks) # Bisa diganti df index jika perlu\n",
        "else:\n",
        "    print(\"DataFrame 'df' tidak tersedia atau kolom teks tidak ditemukan.\")\n",
        "\n",
        "# Konversi ke huruf kecil\n",
        "kebijakan_ditemukan = [k.lower() for k in hasil_pola_3_kebijakan]\n",
        "\n",
        "# Tampilkan ringkasan hasil Regex\n",
        "print(f\"--- Hasil Pola 3 ({pola_3_kebijakan}) ---\")\n",
        "print(f\"Jumlah total temuan kata kunci: {len(kebijakan_ditemukan)}\")\n",
        "print(f\"Contoh 10 temuan pertama: {kebijakan_ditemukan[:10]}\")\n",
        "if kebijakan_ditemukan:\n",
        "    print(f\"Kata kunci unik ditemukan: {sorted(list(set(kebijakan_ditemukan)))}\")\n",
        "    print(f\"Jumlah teks/berita yang mengandung kata kunci: {len(teks_dengan_kebijakan)}\") # Jumlah dokumen yang relevan\n",
        "else:\n",
        "    print(\"Tidak ada kata kunci yang ditemukan.\")\n",
        "\n",
        "\n",
        "# --- TAMBAHAN: Analisis Frekuensi & Visualisasi Kata Kunci Kebijakan ---\n",
        "if kebijakan_ditemukan:\n",
        "    print(\"\\n--- Analisis Frekuensi Kata Kunci Kebijakan/Bantuan (dari Pola 3) ---\")\n",
        "\n",
        "    # 1. Hitung Frekuensi menggunakan Counter\n",
        "    keyword_counts = Counter(kebijakan_ditemukan)\n",
        "    # Urutkan berdasarkan frekuensi (paling banyak dulu)\n",
        "    # .most_common() mengembalikan list of tuples [('kata', jumlah), ...]\n",
        "    sorted_keywords = keyword_counts.most_common()\n",
        "\n",
        "    # 2. Buat Tabel Frekuensi (Pandas DataFrame) agar rapi\n",
        "    # Cek apakah Pandas sudah diimpor sebagai pd\n",
        "    if 'pd' in globals():\n",
        "        df_keywords = pd.DataFrame(sorted_keywords, columns=['Kata Kunci', 'Frekuensi'])\n",
        "        print(\"\\nTabel Frekuensi Kata Kunci:\")\n",
        "        # .to_string() bagus untuk menampilkan semua baris di Colab\n",
        "        print(df_keywords.to_string(index=False))\n",
        "    else:\n",
        "        print(\"\\nPandas tidak diimpor sebagai 'pd', menampilkan list frekuensi:\")\n",
        "        print(sorted_keywords) # Tampilkan list tuple jika pandas tidak ada\n",
        "\n",
        "    # 3. Buat Visualisasi (Bar Chart Horizontal)\n",
        "    # Cek apakah matplotlib.pyplot sudah diimpor sebagai plt\n",
        "    if 'plt' in globals():\n",
        "        # Ambil data untuk plot dari sorted_keywords\n",
        "        labels = [item[0] for item in sorted_keywords]\n",
        "        values = [item[1] for item in sorted_keywords]\n",
        "\n",
        "        plt.figure(figsize=(10, max(6, len(labels) * 0.4))) # Ukuran dinamis berdasarkan jumlah label\n",
        "        bars = plt.barh(labels, values, color='lightcoral') # Horizontal bar chart\n",
        "        plt.xlabel('Jumlah Kemunculan')\n",
        "        plt.ylabel('Kata Kunci Kebijakan/Bantuan')\n",
        "        plt.title('Frekuensi Kata Kunci Kebijakan/Bantuan yang Ditemukan (Pola 3)')\n",
        "        plt.gca().invert_yaxis() # Tampilkan kata kunci teratas di paling atas\n",
        "\n",
        "        # Tambahkan label angka di ujung bar agar mudah dibaca\n",
        "        for bar in bars:\n",
        "            plt.text(bar.get_width() + 5, # Posisi x sedikit di kanan bar\n",
        "                     bar.get_y() + bar.get_height()/2, # Posisi y di tengah bar\n",
        "                     f'{bar.get_width()}', # Teks label (angka frekuensi)\n",
        "                     va='center', # Vertical alignment = center\n",
        "                     ha='left') # Horizontal alignment = left\n",
        "\n",
        "        plt.tight_layout() # Atur layout agar tidak terpotong\n",
        "        plt.show() # Tampilkan plot\n",
        "    else:\n",
        "        print(\"\\nMatplotlib.pyplot tidak diimpor sebagai 'plt', visualisasi dilewati.\")\n",
        "\n",
        "else:\n",
        "    print(\"\\nTidak ada kata kunci kebijakan yang ditemukan untuk dianalisis frekuensinya.\")\n",
        "\n",
        "# Simpan hasil akhir ini jika perlu untuk analisis hilir lain\n",
        "kebijakan_ditemukan_final = kebijakan_ditemukan\n",
        "# df_keywords_final = df_keywords # Jika menggunakan pandas"
      ],
      "metadata": {
        "colab": {
          "base_uri": "https://localhost:8080/",
          "height": 957
        },
        "id": "LaL0_Rc83HBS",
        "outputId": "2580b72a-caad-4cc6-f9f5-8d8a3d5e886b"
      },
      "execution_count": null,
      "outputs": [
        {
          "output_type": "stream",
          "name": "stdout",
          "text": [
            "--- Hasil Pola 3 (\\b(psbb|lockdown|wfh|restrictions|social distancing|work from home|social aid|assistance|bantuan|bansos|vaksin|vaccine)\\b) ---\n",
            "Jumlah total temuan kata kunci: 8395\n",
            "Contoh 10 temuan pertama: ['bantuan', 'bantuan', 'psbb', 'psbb', 'bansos', 'bansos', 'bantuan', 'psbb', 'psbb', 'lockdown']\n",
            "Kata kunci unik ditemukan: ['bansos', 'bantuan', 'lockdown', 'psbb', 'restrictions', 'social distancing', 'vaksin', 'wfh', 'work from home']\n",
            "Jumlah teks/berita yang mengandung kata kunci: 5965\n",
            "\n",
            "--- Analisis Frekuensi Kata Kunci Kebijakan/Bantuan (dari Pola 3) ---\n",
            "\n",
            "Tabel Frekuensi Kata Kunci:\n",
            "       Kata Kunci  Frekuensi\n",
            "          bantuan       3615\n",
            "             psbb       2142\n",
            "           bansos       1147\n",
            "           vaksin        749\n",
            "         lockdown        462\n",
            "social distancing        148\n",
            "              wfh         90\n",
            "   work from home         41\n",
            "     restrictions          1\n"
          ]
        },
        {
          "output_type": "display_data",
          "data": {
            "text/plain": [
              "<Figure size 1000x600 with 1 Axes>"
            ],
            "image/png": "[encoded data removed]"
          },
          "metadata": {}
        }
      ]
    },
    {
      "cell_type": "code",
      "source": [
        "# Sel Kode 18: Regex Tujuan 5 - Pola 3 (Menambah Konteks Bantuan & Visualisasi)\n",
        "\n",
        "# Pola 3: Menambah kata kunci terkait bantuan sosial\n",
        "pola_3_kebijakan = r\"\\b(psbb|lockdown|wfh|restrictions|social distancing|work from home|social aid|assistance|bantuan|bansos|vaksin|vaccine)\\b\" # <--- CONTOH, LENGKAPI DAFTAR KATA KUNCI!\n",
        "\n",
        "hasil_pola_3_kebijakan = []\n",
        "teks_dengan_kebijakan = []\n",
        "\n",
        "if 'df' in locals() and not df.empty and nama_kolom_teks in df.columns:\n",
        "    for teks in df[nama_kolom_teks]:\n",
        "        cocok = re.findall(pola_3_kebijakan, teks, re.IGNORECASE)\n",
        "        if cocok:\n",
        "            hasil_pola_3_kebijakan.extend(cocok)\n",
        "            teks_dengan_kebijakan.append(teks)\n",
        "else:\n",
        "    print(\"DataFrame 'df' tidak tersedia atau kolom teks tidak ditemukan.\")\n",
        "\n",
        "kebijakan_ditemukan = [k.lower() for k in hasil_pola_3_kebijakan]\n",
        "\n",
        "print(f\"--- Hasil Pola 3 ({pola_3_kebijakan}) ---\")\n",
        "print(f\"Jumlah total temuan kata kunci: {len(kebijakan_ditemukan)}\")\n",
        "print(f\"Contoh 10 temuan pertama: {kebijakan_ditemukan[:10]}\")\n",
        "if kebijakan_ditemukan:\n",
        "    print(f\"Kata kunci unik ditemukan: {sorted(list(set(kebijakan_ditemukan)))}\")\n",
        "    print(f\"Jumlah teks/berita yang mengandung kata kunci: {len(teks_dengan_kebijakan)}\")\n",
        "else:\n",
        "    print(\"Tidak ada kata kunci yang ditemukan.\")\n",
        "\n",
        "\n",
        "# --- TAMBAHAN: Analisis Frekuensi & Visualisasi Kata Kunci Kebijakan ---\n",
        "if kebijakan_ditemukan:\n",
        "    print(\"\\n--- Analisis Frekuensi Kata Kunci Kebijakan/Bantuan (dari Pola 3) ---\")\n",
        "\n",
        "    # 1. Hitung Frekuensi menggunakan Counter\n",
        "    keyword_counts = Counter(kebijakan_ditemukan)\n",
        "    sorted_keywords = keyword_counts.most_common()\n",
        "\n",
        "    # 2. Buat Tabel Frekuensi (Pandas DataFrame) dengan Styling yang Lebih Baik\n",
        "    if 'pd' in globals():\n",
        "        df_keywords = pd.DataFrame(sorted_keywords, columns=['Kata Kunci', 'Frekuensi'])\n",
        "        print(\"\\nTabel Frekuensi Kata Kunci (dengan border):\")\n",
        "\n",
        "        # --- Styling untuk menambahkan border dan meningkatkan tampilan ---\n",
        "        styles = [\n",
        "            # Style untuk seluruh tabel: border luar dan collapse border\n",
        "            {'selector': 'table',\n",
        "             'props': [('border-collapse', 'collapse'), # Satukan border sel\n",
        "                       ('border', '2px solid black'),   # Border tebal di luar tabel\n",
        "                       ('width', 'auto')]},             # Lebar tabel otomatis\n",
        "            # Style untuk sel header (th) dan sel data (td): border dalam, padding\n",
        "            {'selector': 'th, td',\n",
        "             'props': [('border', '1px solid #cccccc'), # Border abu-abu tipis di dalam sel\n",
        "                       ('padding', '8px 12px'),      # Padding (atas/bawah, kiri/kanan)\n",
        "                       ('text-align', 'left')]},     # Teks rata kiri\n",
        "            # Style khusus untuk header (th): background, bold\n",
        "            {'selector': 'th',\n",
        "             'props': [('background-color', '#f2f2f2'), # Warna latar abu-abu muda\n",
        "                       ('font-weight', 'bold')]}\n",
        "        ]\n",
        "        # Terapkan style dan gunakan display() untuk merender HTML di Colab\n",
        "        # .hide(axis='index') menyembunyikan nomor index default Pandas (membutuhkan Pandas >= 1.4.0)\n",
        "        # Jika Pandas lebih lama, gunakan .hide_index()\n",
        "        display(df_keywords.style.set_table_styles(styles).hide(axis='index'))\n",
        "        # -----------------------------------------------------------------\n",
        "\n",
        "    else:\n",
        "        # Fallback jika pandas tidak ada\n",
        "        print(\"\\nPandas tidak diimpor sebagai 'pd', menampilkan list frekuensi:\")\n",
        "        print(sorted_keywords)\n",
        "\n",
        "    # 3. Buat Visualisasi (Bar Chart Horizontal) - Kode ini tetap sama\n",
        "    if 'plt' in globals():\n",
        "        labels = [item[0] for item in sorted_keywords]\n",
        "        values = [item[1] for item in sorted_keywords]\n",
        "\n",
        "        plt.figure(figsize=(10, max(6, len(labels) * 0.4)))\n",
        "        bars = plt.barh(labels, values, color='lightcoral')\n",
        "        plt.xlabel('Jumlah Kemunculan')\n",
        "        plt.ylabel('Kata Kunci Kebijakan/Bantuan')\n",
        "        plt.title('Frekuensi Kata Kunci Kebijakan/Bantuan yang Ditemukan (Pola 3)')\n",
        "        plt.gca().invert_yaxis()\n",
        "\n",
        "        for bar in bars:\n",
        "            plt.text(bar.get_width() + 5,\n",
        "                     bar.get_y() + bar.get_height()/2,\n",
        "                     f'{bar.get_width()}',\n",
        "                     va='center',\n",
        "                     ha='left')\n",
        "\n",
        "        plt.tight_layout()\n",
        "        plt.show()\n",
        "    else:\n",
        "        print(\"\\nMatplotlib.pyplot tidak diimpor sebagai 'plt', visualisasi dilewati.\")\n",
        "\n",
        "else:\n",
        "    print(\"\\nTidak ada kata kunci kebijakan yang ditemukan untuk dianalisis frekuensinya.\")\n",
        "\n",
        "# Simpan hasil akhir jika perlu\n",
        "kebijakan_ditemukan_final = kebijakan_ditemukan\n",
        "if 'df_keywords' in locals(): # Simpan jika df dibuat\n",
        "    df_keywords_final = df_keywords"
      ],
      "metadata": {
        "colab": {
          "base_uri": "https://localhost:8080/",
          "height": 1000
        },
        "id": "efeNc40d3ltl",
        "outputId": "a749ca42-f506-4d77-e3bc-5648507d2494"
      },
      "execution_count": null,
      "outputs": [
        {
          "output_type": "stream",
          "name": "stdout",
          "text": [
            "--- Hasil Pola 3 (\\b(psbb|lockdown|wfh|restrictions|social distancing|work from home|social aid|assistance|bantuan|bansos|vaksin|vaccine)\\b) ---\n",
            "Jumlah total temuan kata kunci: 8395\n",
            "Contoh 10 temuan pertama: ['bantuan', 'bantuan', 'psbb', 'psbb', 'bansos', 'bansos', 'bantuan', 'psbb', 'psbb', 'lockdown']\n",
            "Kata kunci unik ditemukan: ['bansos', 'bantuan', 'lockdown', 'psbb', 'restrictions', 'social distancing', 'vaksin', 'wfh', 'work from home']\n",
            "Jumlah teks/berita yang mengandung kata kunci: 5965\n",
            "\n",
            "--- Analisis Frekuensi Kata Kunci Kebijakan/Bantuan (dari Pola 3) ---\n",
            "\n",
            "Tabel Frekuensi Kata Kunci (dengan border):\n"
          ]
        },
        {
          "output_type": "display_data",
          "data": {
            "text/plain": [
              "<pandas.io.formats.style.Styler at 0x7fc0232fa9d0>"
            ],
            "text/html": [
              "<style type=\"text/css\">\n",
              "#T_380b1 table {\n",
              "  border-collapse: collapse;\n",
              "  border: 2px solid black;\n",
              "  width: auto;\n",
              "}\n",
              "#T_380b1 th {\n",
              "  border: 1px solid #cccccc;\n",
              "  padding: 8px 12px;\n",
              "  text-align: left;\n",
              "}\n",
              "#T_380b1  td {\n",
              "  border: 1px solid #cccccc;\n",
              "  padding: 8px 12px;\n",
              "  text-align: left;\n",
              "}\n",
              "#T_380b1 th {\n",
              "  background-color: #f2f2f2;\n",
              "  font-weight: bold;\n",
              "}\n",
              "</style>\n",
              "<table id=\"T_380b1\" class=\"dataframe\">\n",
              "  <thead>\n",
              "    <tr>\n",
              "      <th id=\"T_380b1_level0_col0\" class=\"col_heading level0 col0\" >Kata Kunci</th>\n",
              "      <th id=\"T_380b1_level0_col1\" class=\"col_heading level0 col1\" >Frekuensi</th>\n",
              "    </tr>\n",
              "  </thead>\n",
              "  <tbody>\n",
              "    <tr>\n",
              "      <td id=\"T_380b1_row0_col0\" class=\"data row0 col0\" >bantuan</td>\n",
              "      <td id=\"T_380b1_row0_col1\" class=\"data row0 col1\" >3615</td>\n",
              "    </tr>\n",
              "    <tr>\n",
              "      <td id=\"T_380b1_row1_col0\" class=\"data row1 col0\" >psbb</td>\n",
              "      <td id=\"T_380b1_row1_col1\" class=\"data row1 col1\" >2142</td>\n",
              "    </tr>\n",
              "    <tr>\n",
              "      <td id=\"T_380b1_row2_col0\" class=\"data row2 col0\" >bansos</td>\n",
              "      <td id=\"T_380b1_row2_col1\" class=\"data row2 col1\" >1147</td>\n",
              "    </tr>\n",
              "    <tr>\n",
              "      <td id=\"T_380b1_row3_col0\" class=\"data row3 col0\" >vaksin</td>\n",
              "      <td id=\"T_380b1_row3_col1\" class=\"data row3 col1\" >749</td>\n",
              "    </tr>\n",
              "    <tr>\n",
              "      <td id=\"T_380b1_row4_col0\" class=\"data row4 col0\" >lockdown</td>\n",
              "      <td id=\"T_380b1_row4_col1\" class=\"data row4 col1\" >462</td>\n",
              "    </tr>\n",
              "    <tr>\n",
              "      <td id=\"T_380b1_row5_col0\" class=\"data row5 col0\" >social distancing</td>\n",
              "      <td id=\"T_380b1_row5_col1\" class=\"data row5 col1\" >148</td>\n",
              "    </tr>\n",
              "    <tr>\n",
              "      <td id=\"T_380b1_row6_col0\" class=\"data row6 col0\" >wfh</td>\n",
              "      <td id=\"T_380b1_row6_col1\" class=\"data row6 col1\" >90</td>\n",
              "    </tr>\n",
              "    <tr>\n",
              "      <td id=\"T_380b1_row7_col0\" class=\"data row7 col0\" >work from home</td>\n",
              "      <td id=\"T_380b1_row7_col1\" class=\"data row7 col1\" >41</td>\n",
              "    </tr>\n",
              "    <tr>\n",
              "      <td id=\"T_380b1_row8_col0\" class=\"data row8 col0\" >restrictions</td>\n",
              "      <td id=\"T_380b1_row8_col1\" class=\"data row8 col1\" >1</td>\n",
              "    </tr>\n",
              "  </tbody>\n",
              "</table>\n"
            ]
          },
          "metadata": {}
        },
        {
          "output_type": "display_data",
          "data": {
            "text/plain": [
              "<Figure size 1000x600 with 1 Axes>"
            ],
            "image/png": "[encoded data removed]"
          },
          "metadata": {}
        }
      ]
    },
    {
      "cell_type": "markdown",
      "source": [
        "**Analisa Pola 3:**\n",
        "\n",
        "Pola Regex `r\"\\b(psbb|...|bantuan|bansos|vaksin|vaccine)\\b\"` ini adalah versi **paling lengkap** untuk Tujuan 5.\n",
        "\n",
        "*   **Pengembangan:** Memperluas Pola 2 dengan menambahkan **kata kunci penting** terkait **bantuan sosial** (seperti `bantuan`, `bansos`) dan **vaksinasi** (`vaksin`, `vaccine`).\n",
        "*   **Fitur Utama:** Tetap menggunakan **word boundaries (`\\b`)** untuk mencocokkan kata utuh dan **alternatif (`|`)** serta **pencarian case-insensitive** untuk menangkap variasi.\n",
        "*   **Tujuan:** Menangkap **cakupan topik diskusi yang lebih luas** mengenai berbagai aspek respons pandemi (pembatasan, bantuan, vaksin) dalam teks.\n",
        "*   **Keterbatasan Utama:** Daftar kata kunci mungkin **belum mencakup semua istilah** relevan, dan Regex **tidak memahami konteks/sentimen** penggunaan kata tersebut."
      ],
      "metadata": {
        "id": "4gEmYBdi3lcb"
      }
    },
    {
      "cell_type": "code",
      "source": [
        "import pandas as pd\n",
        "import re\n",
        "\n",
        "# Load dataset\n",
        "df = pd.read_csv(\"file_path\")\n",
        "\n",
        "# Hapus duplikat dan NaN\n",
        "df.drop_duplicates(subset='tweet_id', inplace=True)\n",
        "df.dropna(subset=['full_text'], inplace=True)\n",
        "\n",
        "# Pastikan lowercase untuk keseragaman analisis\n",
        "df['full_text'] = df['full_text'].str.lower()\n"
      ],
      "metadata": {
        "colab": {
          "base_uri": "https://localhost:8080/",
          "height": 373
        },
        "id": "gXptaADFU54E",
        "outputId": "33297751-2d01-41c7-860f-a202dae23c43"
      },
      "execution_count": 10,
      "outputs": [
        {
          "output_type": "error",
          "ename": "FileNotFoundError",
          "evalue": "[Errno 2] No such file or directory: 'file_path'",
          "traceback": [
            "\u001b[0;31m---------------------------------------------------------------------------\u001b[0m",
            "\u001b[0;31mFileNotFoundError\u001b[0m                         Traceback (most recent call last)",
            "\u001b[0;32m<ipython-input-10-12cde3600a13>\u001b[0m in \u001b[0;36m<cell line: 0>\u001b[0;34m()\u001b[0m\n\u001b[1;32m      3\u001b[0m \u001b[0;34m\u001b[0m\u001b[0m\n\u001b[1;32m      4\u001b[0m \u001b[0;31m# Load dataset\u001b[0m\u001b[0;34m\u001b[0m\u001b[0;34m\u001b[0m\u001b[0m\n\u001b[0;32m----> 5\u001b[0;31m \u001b[0mdf\u001b[0m \u001b[0;34m=\u001b[0m \u001b[0mpd\u001b[0m\u001b[0;34m.\u001b[0m\u001b[0mread_csv\u001b[0m\u001b[0;34m(\u001b[0m\u001b[0;34m\"file_path\"\u001b[0m\u001b[0;34m)\u001b[0m\u001b[0;34m\u001b[0m\u001b[0;34m\u001b[0m\u001b[0m\n\u001b[0m\u001b[1;32m      6\u001b[0m \u001b[0;34m\u001b[0m\u001b[0m\n\u001b[1;32m      7\u001b[0m \u001b[0;31m# Hapus duplikat dan NaN\u001b[0m\u001b[0;34m\u001b[0m\u001b[0;34m\u001b[0m\u001b[0m\n",
            "\u001b[0;32m/usr/local/lib/python3.11/dist-packages/pandas/io/parsers/readers.py\u001b[0m in \u001b[0;36mread_csv\u001b[0;34m(filepath_or_buffer, sep, delimiter, header, names, index_col, usecols, dtype, engine, converters, true_values, false_values, skipinitialspace, skiprows, skipfooter, nrows, na_values, keep_default_na, na_filter, verbose, skip_blank_lines, parse_dates, infer_datetime_format, keep_date_col, date_parser, date_format, dayfirst, cache_dates, iterator, chunksize, compression, thousands, decimal, lineterminator, quotechar, quoting, doublequote, escapechar, comment, encoding, encoding_errors, dialect, on_bad_lines, delim_whitespace, low_memory, memory_map, float_precision, storage_options, dtype_backend)\u001b[0m\n\u001b[1;32m   1024\u001b[0m     \u001b[0mkwds\u001b[0m\u001b[0;34m.\u001b[0m\u001b[0mupdate\u001b[0m\u001b[0;34m(\u001b[0m\u001b[0mkwds_defaults\u001b[0m\u001b[0;34m)\u001b[0m\u001b[0;34m\u001b[0m\u001b[0;34m\u001b[0m\u001b[0m\n\u001b[1;32m   1025\u001b[0m \u001b[0;34m\u001b[0m\u001b[0m\n\u001b[0;32m-> 1026\u001b[0;31m     \u001b[0;32mreturn\u001b[0m \u001b[0m_read\u001b[0m\u001b[0;34m(\u001b[0m\u001b[0mfilepath_or_buffer\u001b[0m\u001b[0;34m,\u001b[0m \u001b[0mkwds\u001b[0m\u001b[0;34m)\u001b[0m\u001b[0;34m\u001b[0m\u001b[0;34m\u001b[0m\u001b[0m\n\u001b[0m\u001b[1;32m   1027\u001b[0m \u001b[0;34m\u001b[0m\u001b[0m\n\u001b[1;32m   1028\u001b[0m \u001b[0;34m\u001b[0m\u001b[0m\n",
            "\u001b[0;32m/usr/local/lib/python3.11/dist-packages/pandas/io/parsers/readers.py\u001b[0m in \u001b[0;36m_read\u001b[0;34m(filepath_or_buffer, kwds)\u001b[0m\n\u001b[1;32m    618\u001b[0m \u001b[0;34m\u001b[0m\u001b[0m\n\u001b[1;32m    619\u001b[0m     \u001b[0;31m# Create the parser.\u001b[0m\u001b[0;34m\u001b[0m\u001b[0;34m\u001b[0m\u001b[0m\n\u001b[0;32m--> 620\u001b[0;31m     \u001b[0mparser\u001b[0m \u001b[0;34m=\u001b[0m \u001b[0mTextFileReader\u001b[0m\u001b[0;34m(\u001b[0m\u001b[0mfilepath_or_buffer\u001b[0m\u001b[0;34m,\u001b[0m \u001b[0;34m**\u001b[0m\u001b[0mkwds\u001b[0m\u001b[0;34m)\u001b[0m\u001b[0;34m\u001b[0m\u001b[0;34m\u001b[0m\u001b[0m\n\u001b[0m\u001b[1;32m    621\u001b[0m \u001b[0;34m\u001b[0m\u001b[0m\n\u001b[1;32m    622\u001b[0m     \u001b[0;32mif\u001b[0m \u001b[0mchunksize\u001b[0m \u001b[0;32mor\u001b[0m \u001b[0miterator\u001b[0m\u001b[0;34m:\u001b[0m\u001b[0;34m\u001b[0m\u001b[0;34m\u001b[0m\u001b[0m\n",
            "\u001b[0;32m/usr/local/lib/python3.11/dist-packages/pandas/io/parsers/readers.py\u001b[0m in \u001b[0;36m__init__\u001b[0;34m(self, f, engine, **kwds)\u001b[0m\n\u001b[1;32m   1618\u001b[0m \u001b[0;34m\u001b[0m\u001b[0m\n\u001b[1;32m   1619\u001b[0m         \u001b[0mself\u001b[0m\u001b[0;34m.\u001b[0m\u001b[0mhandles\u001b[0m\u001b[0;34m:\u001b[0m \u001b[0mIOHandles\u001b[0m \u001b[0;34m|\u001b[0m \u001b[0;32mNone\u001b[0m \u001b[0;34m=\u001b[0m \u001b[0;32mNone\u001b[0m\u001b[0;34m\u001b[0m\u001b[0;34m\u001b[0m\u001b[0m\n\u001b[0;32m-> 1620\u001b[0;31m         \u001b[0mself\u001b[0m\u001b[0;34m.\u001b[0m\u001b[0m_engine\u001b[0m \u001b[0;34m=\u001b[0m \u001b[0mself\u001b[0m\u001b[0;34m.\u001b[0m\u001b[0m_make_engine\u001b[0m\u001b[0;34m(\u001b[0m\u001b[0mf\u001b[0m\u001b[0;34m,\u001b[0m \u001b[0mself\u001b[0m\u001b[0;34m.\u001b[0m\u001b[0mengine\u001b[0m\u001b[0;34m)\u001b[0m\u001b[0;34m\u001b[0m\u001b[0;34m\u001b[0m\u001b[0m\n\u001b[0m\u001b[1;32m   1621\u001b[0m \u001b[0;34m\u001b[0m\u001b[0m\n\u001b[1;32m   1622\u001b[0m     \u001b[0;32mdef\u001b[0m \u001b[0mclose\u001b[0m\u001b[0;34m(\u001b[0m\u001b[0mself\u001b[0m\u001b[0;34m)\u001b[0m \u001b[0;34m->\u001b[0m \u001b[0;32mNone\u001b[0m\u001b[0;34m:\u001b[0m\u001b[0;34m\u001b[0m\u001b[0;34m\u001b[0m\u001b[0m\n",
            "\u001b[0;32m/usr/local/lib/python3.11/dist-packages/pandas/io/parsers/readers.py\u001b[0m in \u001b[0;36m_make_engine\u001b[0;34m(self, f, engine)\u001b[0m\n\u001b[1;32m   1878\u001b[0m                 \u001b[0;32mif\u001b[0m \u001b[0;34m\"b\"\u001b[0m \u001b[0;32mnot\u001b[0m \u001b[0;32min\u001b[0m \u001b[0mmode\u001b[0m\u001b[0;34m:\u001b[0m\u001b[0;34m\u001b[0m\u001b[0;34m\u001b[0m\u001b[0m\n\u001b[1;32m   1879\u001b[0m                     \u001b[0mmode\u001b[0m \u001b[0;34m+=\u001b[0m \u001b[0;34m\"b\"\u001b[0m\u001b[0;34m\u001b[0m\u001b[0;34m\u001b[0m\u001b[0m\n\u001b[0;32m-> 1880\u001b[0;31m             self.handles = get_handle(\n\u001b[0m\u001b[1;32m   1881\u001b[0m                 \u001b[0mf\u001b[0m\u001b[0;34m,\u001b[0m\u001b[0;34m\u001b[0m\u001b[0;34m\u001b[0m\u001b[0m\n\u001b[1;32m   1882\u001b[0m                 \u001b[0mmode\u001b[0m\u001b[0;34m,\u001b[0m\u001b[0;34m\u001b[0m\u001b[0;34m\u001b[0m\u001b[0m\n",
            "\u001b[0;32m/usr/local/lib/python3.11/dist-packages/pandas/io/common.py\u001b[0m in \u001b[0;36mget_handle\u001b[0;34m(path_or_buf, mode, encoding, compression, memory_map, is_text, errors, storage_options)\u001b[0m\n\u001b[1;32m    871\u001b[0m         \u001b[0;32mif\u001b[0m \u001b[0mioargs\u001b[0m\u001b[0;34m.\u001b[0m\u001b[0mencoding\u001b[0m \u001b[0;32mand\u001b[0m \u001b[0;34m\"b\"\u001b[0m \u001b[0;32mnot\u001b[0m \u001b[0;32min\u001b[0m \u001b[0mioargs\u001b[0m\u001b[0;34m.\u001b[0m\u001b[0mmode\u001b[0m\u001b[0;34m:\u001b[0m\u001b[0;34m\u001b[0m\u001b[0;34m\u001b[0m\u001b[0m\n\u001b[1;32m    872\u001b[0m             \u001b[0;31m# Encoding\u001b[0m\u001b[0;34m\u001b[0m\u001b[0;34m\u001b[0m\u001b[0m\n\u001b[0;32m--> 873\u001b[0;31m             handle = open(\n\u001b[0m\u001b[1;32m    874\u001b[0m                 \u001b[0mhandle\u001b[0m\u001b[0;34m,\u001b[0m\u001b[0;34m\u001b[0m\u001b[0;34m\u001b[0m\u001b[0m\n\u001b[1;32m    875\u001b[0m                 \u001b[0mioargs\u001b[0m\u001b[0;34m.\u001b[0m\u001b[0mmode\u001b[0m\u001b[0;34m,\u001b[0m\u001b[0;34m\u001b[0m\u001b[0;34m\u001b[0m\u001b[0m\n",
            "\u001b[0;31mFileNotFoundError\u001b[0m: [Errno 2] No such file or directory: 'file_path'"
          ]
        }
      ]
    },
    {
      "cell_type": "markdown",
      "source": [
        "### **Downstream Analysis**: Frekuensi Kemunculan Bersama Kata \"jokowi\" dan \"bantuan\"\n",
        "\n",
        "Analisis ini merupakan langkah lanjutan (*downstream analysis*) yang berfokus pada pemahaman konteks spesifik dalam dataset teks (tweet). Berbeda dengan analisis frekuensi kata kunci umum sebelumnya yang menghitung frekuensi total kata 'bantuan' atau mention '@jokowi'), tujuan analisis ini adalah untuk mengidentifikasi dan mengukur **seberapa sering kata kunci 'jokowi' dan 'bantuan' muncul secara bersamaan dalam satu unit teks yang sama**.\n",
        "\n",
        "### Tujuan Analisis\n",
        "\n",
        "*   Mengukur frekuensi teks (tweet) yang secara spesifik membahas **'jokowi'** dalam konteks **'bantuan'**, atau sebaliknya.\n",
        "*   Memberikan insight apakah topik 'bantuan' sering dikaitkan langsung dengan 'jokowi' dalam korpus data yang dianalisis.\n",
        "*   Memvalidasi atau mengeksplorasi hipotesis tentang keterkaitan kedua topik tersebut dalam percakapan publik (berdasarkan data yang ada).\n",
        "\n",
        "### Metodologi\n",
        "\n",
        "Analisis ini dilakukan dengan langkah-langkah berikut:\n",
        "\n",
        "1.  **Persiapan Data**: Memastikan DataFrame (`df`) yang berisi data teks sudah dimuat, dan kolom yang relevan (misalnya, `tweet`) telah diidentifikasi dan dibersihkan seperlunya (memastikan tipe data string).\n",
        "2.  **Definisi Kata Kunci**: Menetapkan dua kata kunci utama yang akan dicari: `\"jokowi\"` dan `\"bantuan\"`.\n",
        "3.  **Pencarian Berbasis Teks**: Menggunakan *regular expressions* (regex) untuk melakukan pencarian pada setiap teks dalam dataset:\n",
        "    *   Pola regex (`r'\\bkata\\b'`) digunakan untuk memastikan pencocokan **kata utuh** (*whole word*). Ini mencegah pencocokan parsial (misal, 'bantuan' tidak cocok dengan 'pembantuan').\n",
        "    *   Opsi `re.IGNORECASE` digunakan agar pencarian **tidak peka terhadap huruf besar/kecil** (misal, 'Jokowi', 'jokowi', 'JOKOWI' akan terdeteksi sama).\n",
        "4.  **Iterasi dan Pengecekan Kondisi**: Kode melakukan iterasi pada setiap teks (baris) dalam kolom teks:\n",
        "    *   Untuk setiap teks, dilakukan pengecekan: Apakah kata `'jokowi'` **DAN** kata `'bantuan'` *keduanya* ada di dalam teks tersebut?\n",
        "5.  **Penghitungan Frekuensi**: Sebuah *counter* (`count_bersama`) digunakan untuk menghitung berapa banyak teks yang memenuhi kondisi di atas (mengandung kedua kata).\n",
        "    *   Sebagai konteks tambahan, dihitung juga jumlah total teks yang mengandung `'jokowi'` (`count_kata1_saja`) dan jumlah total teks yang mengandung `'bantuan'` (`count_kata2_saja`), terlepas dari apakah kata pasangannya ada atau tidak.\n",
        "6.  **Ekstraksi Contoh**: Beberapa contoh teks pertama yang mengandung kedua kata kunci disimpan untuk memberikan gambaran kualitatif.\n",
        "7.  **Output Hasil**: Hasil analisis disajikan dalam bentuk:\n",
        "    *   **Teks**: Jumlah teks yang mengandung kedua kata kunci secara bersamaan, serta jumlah total kemunculan masing-masing kata kunci.\n",
        "    *   **Contoh**: Beberapa contoh teks representatif.\n",
        "8.  **Visualisasi**: Sebuah diagram batang (bar chart) dibuat untuk memvisualisasikan hasil:\n",
        "    *   Diagram ini biasanya membandingkan jumlah teks yang hanya mengandung 'jokowi', jumlah teks yang hanya mengandung 'bantuan', dan jumlah teks yang mengandung **keduanya**. Ini membantu dalam menginterpretasikan signifikansi dari kemunculan bersama tersebut relatif terhadap kemunculan individual.\n",
        "\n",
        "### Interpretasi Hasil\n",
        "\n",
        "Jumlah teks yang mengandung kedua kata kunci (\"jokowi\" dan \"bantuan\") secara bersamaan menunjukkan seberapa kuat asosiasi langsung antara kedua topik tersebut dalam dataset. Jika angkanya signifikan dibandingkan dengan jumlah total kemunculan masing-masing kata, ini bisa mengindikasikan bahwa diskusi tentang 'bantuan' seringkali melibatkan penyebutan 'jokowi', atau sebaliknya. Visualisasi membantu memperjelas proporsi ini."
      ],
      "metadata": {
        "id": "z0WQVEsRZklG"
      }
    },
    {
      "cell_type": "code",
      "source": [
        "# Import library yang mungkin dibutuhkan (jika belum diimport sebelumnya)\n",
        "import pandas as pd\n",
        "import re\n",
        "import matplotlib.pyplot as plt\n",
        "from collections import Counter  # Counter mungkin tidak dibutuhkan untuk ini, tapi jaga-jaga\n",
        "\n",
        "# ---------------------------------------------------------------------------\n",
        "# Asumsi: DataFrame 'df' sudah dimuat dan kolom 'tweet' berisi teks\n",
        "# Contoh (jika perlu memuat ulang):\n",
        "# from google.colab import drive\n",
        "# drive.mount('/content/drive')\n",
        "# file_path = '/content/drive/MyDrive/NLP-CC/covid-sentiment.csv'\n",
        "# df = pd.read_csv(file_path)\n",
        "# nama_kolom_teks = 'tweet' # Sesuaikan jika nama kolom berbeda\n",
        "# # Pastikan kolom teks ada dan bertipe string\n",
        "# if nama_kolom_teks not in df.columns:\n",
        "#      print(f\"Error: Kolom '{nama_kolom_teks}' tidak ditemukan dalam DataFrame.\")\n",
        "#      # Hentikan eksekusi atau tangani error\n",
        "# else:\n",
        "#      df[nama_kolom_teks] = df[nama_kolom_teks].astype(str)\n",
        "# ---------------------------------------------------------------------------\n",
        "\n",
        "# --- ANALISIS KEMUNCULAN BERSAMA 'jokowi' DAN 'bantuan' ---\n",
        "\n",
        "print(\"\\n--- Analisis Kemunculan Bersama 'jokowi' dan 'bantuan' ---\")\n",
        "\n",
        "# Pastikan DataFrame dan kolom teks ada\n",
        "nama_kolom_teks = 'tweet' # PASTIKAN INI SESUAI DENGAN NAMA KOLOM ANDA\n",
        "\n",
        "if 'df' in locals() and isinstance(df, pd.DataFrame) and nama_kolom_teks in df.columns:\n",
        "\n",
        "    kata1 = \"jokowi\"\n",
        "    kata2 = \"bantuan\"\n",
        "\n",
        "    # Pola regex untuk mencari kata sebagai kata utuh (word boundary \\b)\n",
        "    # re.escape digunakan untuk keamanan jika kata mengandung karakter khusus regex\n",
        "    # re.IGNORECASE untuk tidak mempedulikan huruf besar/kecil\n",
        "    pola_kata1 = r'\\b' + re.escape(kata1) + r'\\b'\n",
        "    pola_kata2 = r'\\b' + re.escape(kata2) + r'\\b'\n",
        "\n",
        "    count_bersama = 0\n",
        "    count_kata1_saja = 0\n",
        "    count_kata2_saja = 0\n",
        "    total_teks_diperiksa = 0\n",
        "    contoh_teks_bersama = [] # Menyimpan contoh teks\n",
        "\n",
        "    # Iterasi melalui setiap teks dalam kolom\n",
        "    for teks in df[nama_kolom_teks]:\n",
        "        if isinstance(teks, str): # Pastikan itu string\n",
        "            total_teks_diperiksa += 1\n",
        "            # Cari kedua kata dalam teks (case-insensitive)\n",
        "            ada_kata1 = re.search(pola_kata1, teks, re.IGNORECASE)\n",
        "            ada_kata2 = re.search(pola_kata2, teks, re.IGNORECASE)\n",
        "\n",
        "            # Hitung kemunculan bersama\n",
        "            if ada_kata1 and ada_kata2:\n",
        "                count_bersama += 1\n",
        "                if len(contoh_teks_bersama) < 5: # Simpan 5 contoh pertama\n",
        "                    contoh_teks_bersama.append(teks)\n",
        "            # Hitung kemunculan individu (untuk konteks visualisasi)\n",
        "            if ada_kata1:\n",
        "                count_kata1_saja += 1\n",
        "            if ada_kata2:\n",
        "                count_kata2_saja += 1\n",
        "        else:\n",
        "            # Menangani jika ada nilai non-string (misalnya NaN)\n",
        "            print(f\"Peringatan: Melewati entri non-string: {teks}\")\n",
        "\n",
        "    print(f\"Total teks yang diperiksa: {total_teks_diperiksa}\")\n",
        "    print(f\"Jumlah teks yang menyebutkan '{kata1}' DAN '{kata2}' secara bersamaan: {count_bersama}\")\n",
        "    print(f\"Jumlah teks yang menyebutkan '{kata1}' (termasuk yang bersama '{kata2}'): {count_kata1_saja}\")\n",
        "    print(f\"Jumlah teks yang menyebutkan '{kata2}' (termasuk yang bersama '{kata1}'): {count_kata2_saja}\")\n",
        "\n",
        "    if contoh_teks_bersama:\n",
        "        print(\"\\nContoh teks yang mengandung kedua kata:\")\n",
        "        for i, contoh in enumerate(contoh_teks_bersama):\n",
        "            print(f\"{i+1}. {contoh[:150]}...\") # Tampilkan 150 karakter pertama\n",
        "\n",
        "    # --- VISUALISASI HASIL ---\n",
        "    if 'plt' in globals():\n",
        "        labels = [f\"Hanya '{kata1}'\", f\"Hanya '{kata2}'\", f\"'{kata1}' & '{kata2}'\\nBersama\"]\n",
        "        # Hitung jumlah 'hanya' untuk visualisasi yang lebih jelas\n",
        "        val_hanya_kata1 = count_kata1_saja - count_bersama\n",
        "        val_hanya_kata2 = count_kata2_saja - count_bersama\n",
        "        values = [val_hanya_kata1, val_hanya_kata2, count_bersama]\n",
        "\n",
        "        # Filter out negative values if somehow calculation is off (shouldn't happen here)\n",
        "        values = [max(0, v) for v in values]\n",
        "\n",
        "        plt.figure(figsize=(8, 6))\n",
        "        bars = plt.bar(labels, values, color=['lightblue', 'lightgreen', 'salmon'])\n",
        "        plt.ylabel('Jumlah Teks/Tweet')\n",
        "        plt.title(f\"Frekuensi Kemunculan '{kata1}' dan '{kata2}' dalam Teks\")\n",
        "        plt.xticks(rotation=0) # Rotasi label sumbu X jika perlu\n",
        "\n",
        "        # Menambahkan angka di atas bar\n",
        "        for bar in bars:\n",
        "            yval = bar.get_height()\n",
        "            if yval > 0: # Hanya tampilkan label jika nilainya > 0\n",
        "                plt.text(bar.get_x() + bar.get_width()/2.0, yval, int(yval), va='bottom', ha='center') # va='bottom' menempatkan teks di atas bar\n",
        "\n",
        "        plt.tight_layout() # Menyesuaikan layout agar tidak tumpang tindih\n",
        "        plt.show()\n",
        "\n",
        "    else:\n",
        "        print(\"\\nMatplotlib.pyplot tidak diimpor sebagai 'plt', visualisasi dilewati.\")\n",
        "\n",
        "else:\n",
        "    # Pesan error jika df atau kolom teks tidak valid\n",
        "    if 'df' not in locals() or not isinstance(df, pd.DataFrame):\n",
        "        print(\"Error: DataFrame 'df' tidak ditemukan atau bukan instance DataFrame Pandas.\")\n",
        "    elif nama_kolom_teks not in df.columns:\n",
        "        print(f\"Error: Kolom '{nama_kolom_teks}' tidak ditemukan dalam DataFrame.\")"
      ],
      "metadata": {
        "colab": {
          "base_uri": "https://localhost:8080/",
          "height": 887
        },
        "id": "ql9f_NMHdnu0",
        "outputId": "329e3880-84b3-4554-c92a-aacaecbcf74c"
      },
      "execution_count": 12,
      "outputs": [
        {
          "output_type": "stream",
          "name": "stdout",
          "text": [
            "\n",
            "--- Analisis Kemunculan Bersama 'jokowi' dan 'bantuan' ---\n",
            "Total teks yang diperiksa: 47404\n",
            "Jumlah teks yang menyebutkan 'jokowi' DAN 'bantuan' secara bersamaan: 76\n",
            "Jumlah teks yang menyebutkan 'jokowi' (termasuk yang bersama 'bantuan'): 1278\n",
            "Jumlah teks yang menyebutkan 'bantuan' (termasuk yang bersama 'jokowi'): 2513\n",
            "\n",
            "Contoh teks yang mengandung kedua kata:\n",
            "1. masih bilang beruntung, ribuan warga mati & banyak tak terdaftar korban covid-19. ini bukan masalah untung rugi, tapi pemerintah menolak memberi bantu...\n",
            "2. [salah] “jokowi: hukuman seumur hidup bagi kepala daerah mainkan bantuan covid-19”\n",
            "\n",
            "tidak ditemukan pemberitaan dan pernyataan resmi dari pemerintah d...\n",
            "3. slmt pg pak presiden. saya ojol dr jayapura-papua mo tnya apa bantuan covid 19 ini sdh ada di jayapura k. soalx sampe sekarang saya blm dapat bantuan ...\n",
            "4. pemerintah pusat dan daerah harus bersinergi dan memastikan agar bantuan kepada masyarakat yang terdampak lansung covid-19 berjalan dengan baik dan te...\n",
            "5. kesel,sedih bercampur aduk gara2 adanya covid-19 planing keluarga ku ancur,pendapatan tdk ada cclan kpr,makan,kontrakan hrs trs uang drmn?bantuan dr p...\n"
          ]
        },
        {
          "output_type": "display_data",
          "data": {
            "text/plain": [
              "<Figure size 800x600 with 1 Axes>"
            ],
            "image/png": "[encoded data removed]"
          },
          "metadata": {}
        }
      ]
    },
    {
      "cell_type": "markdown",
      "source": [
        "**RANGKUMAN**\n",
        "\n",
        "Analisis ini untuk memahami bagaimana kebijakan dan respons pemerintah dipengaruhi oleh berbagai faktor selama pandemi, termasuk langkah-langkah pembatasan, kebijakan WFH, bantuan sosial, serta upaya vaksinasi. Melalui pendekatan regex yang semakin luas dan spesifik, kita dapat memperoleh gambaran yang lebih lengkap mengenai topik yang paling sering dibahas dalam konteks kebijakan pemerintah selama pandemi.\n"
      ],
      "metadata": {
        "id": "9LGiru424lSf"
      }
    }
  ]
}